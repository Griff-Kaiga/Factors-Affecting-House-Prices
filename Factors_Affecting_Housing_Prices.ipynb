{
  "nbformat": 4,
  "nbformat_minor": 0,
  "metadata": {
    "colab": {
      "name": "Factors Affecting Housing Prices",
      "provenance": [],
      "collapsed_sections": [
        "kLG2VTrnTvYL",
        "XecOwPNorl2W",
        "J4wfHZwQrs-t",
        "a9BPYqunry97",
        "7KMRBJ7zr9HD",
        "zSGyg6kWsBUl",
        "iUNbvIvnT7ep",
        "OI3P3YnHUEBk",
        "ckfufNrcUHeH",
        "6XC_g-zKxe-r",
        "FlBMxEDBUc9B",
        "rF2ABPsHUtbZ",
        "vTbdjSrhVIiT",
        "lQ2G4ZPDVOXE",
        "xrmHVMVsVS--",
        "HPQviDmNtta8",
        "qjFHK1CKty7o",
        "HSsicSdvt4Zs"
      ],
      "include_colab_link": true
    },
    "kernelspec": {
      "name": "python3",
      "display_name": "Python 3"
    }
  },
  "cells": [
    {
      "cell_type": "markdown",
      "metadata": {
        "id": "view-in-github",
        "colab_type": "text"
      },
      "source": [
        "<a href=\"https://colab.research.google.com/github/Griff-Kaiga/Factors-Affecting-House-Prices/blob/master/Factors_Affecting_Housing_Prices.ipynb\" target=\"_parent\"><img src=\"https://colab.research.google.com/assets/colab-badge.svg\" alt=\"Open In Colab\"/></a>"
      ]
    },
    {
      "cell_type": "markdown",
      "metadata": {
        "id": "xMxtPsqcTsSH",
        "colab_type": "text"
      },
      "source": [
        "# Supervised Learning with Exploratory Data Analysis - Exercise 1"
      ]
    },
    {
      "cell_type": "markdown",
      "metadata": {
        "id": "kLG2VTrnTvYL",
        "colab_type": "text"
      },
      "source": [
        "## 1. Defining the Question"
      ]
    },
    {
      "cell_type": "markdown",
      "metadata": {
        "id": "XecOwPNorl2W",
        "colab_type": "text"
      },
      "source": [
        "### a) Specifying the Question"
      ]
    },
    {
      "cell_type": "markdown",
      "metadata": {
        "id": "8l3-hBO6bODP",
        "colab_type": "text"
      },
      "source": [
        "\n",
        "As a Data Scientist working with Hass Consulting have been tasked to study the factors affecting the house prices given information on real estate properties that had been collected over the past few months. Later onwards, create a model that would allow the company to accurately predict the sale of prices upon being provided with the predictor variables."
      ]
    },
    {
      "cell_type": "markdown",
      "metadata": {
        "id": "J4wfHZwQrs-t",
        "colab_type": "text"
      },
      "source": [
        "### b) Defining the Metric for Success"
      ]
    },
    {
      "cell_type": "markdown",
      "metadata": {
        "id": "J68hlvYx0BXW",
        "colab_type": "text"
      },
      "source": [
        "the project will be considered a success once:  \n",
        "\n",
        "*   a model that accurately predicts the said sale upon provision of predictors is created\n",
        "*   List item\n"
      ]
    },
    {
      "cell_type": "markdown",
      "metadata": {
        "id": "a9BPYqunry97",
        "colab_type": "text"
      },
      "source": [
        "### c) Understanding the context "
      ]
    },
    {
      "cell_type": "markdown",
      "metadata": {
        "id": "7KMRBJ7zr9HD",
        "colab_type": "text"
      },
      "source": [
        "### d) Recording the Experimental Design"
      ]
    },
    {
      "cell_type": "markdown",
      "metadata": {
        "id": "-w2GJ7Mu8R8S",
        "colab_type": "text"
      },
      "source": [
        "Read and explore the given dataset.\n",
        "\n",
        "1.   Read and explore the given dataset.\n",
        "2.   Find and deal with outliers, anomalies, and missing data within the   dataset.\n",
        "3.  Perform univariate, bivariate and multivariate analysis \n",
        "4.  Performing regression analysis.\n",
        "5.  Provide a recommendation based on your analysis.\n",
        "6.  Challenge your solution by providing insights on how to make improvements in model improvement.\n",
        "\n"
      ]
    },
    {
      "cell_type": "markdown",
      "metadata": {
        "id": "zSGyg6kWsBUl",
        "colab_type": "text"
      },
      "source": [
        "### e) Data Relevance"
      ]
    },
    {
      "cell_type": "markdown",
      "metadata": {
        "id": "LitW4GXu-8hb",
        "colab_type": "text"
      },
      "source": [
        "For this project, a one table data set was provided. This contained information in the form of rows and columns on various factors. The data contained information on houses such as: the bedroom, the bathroom, the price,the size in square feet, and the condition,.\n",
        "The data set contained relevant information that will assist in solving the challenge at hand."
      ]
    },
    {
      "cell_type": "markdown",
      "metadata": {
        "id": "iUNbvIvnT7ep",
        "colab_type": "text"
      },
      "source": [
        "## 2. Reading the Data"
      ]
    },
    {
      "cell_type": "code",
      "metadata": {
        "id": "DTMPSdWpH14k",
        "colab_type": "code",
        "colab": {
          "base_uri": "https://localhost:8080/",
          "height": 72
        },
        "outputId": "9642bfc0-db7b-4110-f03e-829a7bbba9f6"
      },
      "source": [
        "# importing the relevant libraries to be used\n",
        "import pandas as pd\n",
        "import numpy as np\n",
        "import seaborn as sns\n",
        "import matplotlib.pyplot as plt\n",
        "\n",
        "\n"
      ],
      "execution_count": 1,
      "outputs": [
        {
          "output_type": "stream",
          "text": [
            "/usr/local/lib/python3.6/dist-packages/statsmodels/tools/_testing.py:19: FutureWarning: pandas.util.testing is deprecated. Use the functions in the public API at pandas.testing instead.\n",
            "  import pandas.util.testing as tm\n"
          ],
          "name": "stderr"
        }
      ]
    },
    {
      "cell_type": "code",
      "metadata": {
        "id": "XJn2KjW-WMlG",
        "colab_type": "code",
        "colab": {}
      },
      "source": [
        "# Loading the Dataset\n",
        "# Dataset url = /content/Independent Project Week 7 - house_data.csv\n",
        "#\n",
        "house = pd.read_csv(\"/content/Independent Project Week 7 - house_data.csv\")\n"
      ],
      "execution_count": 2,
      "outputs": []
    },
    {
      "cell_type": "markdown",
      "metadata": {
        "id": "OI3P3YnHUEBk",
        "colab_type": "text"
      },
      "source": [
        "## 3. Checking the Data"
      ]
    },
    {
      "cell_type": "code",
      "metadata": {
        "id": "YjSVNwgptHxY",
        "colab_type": "code",
        "colab": {
          "base_uri": "https://localhost:8080/",
          "height": 35
        },
        "outputId": "9e87a9e4-3a51-49cc-a34e-0b7fcd0bfc8e"
      },
      "source": [
        "# Determining the no. of records in our dataset\n",
        "#\n",
        "house.shape"
      ],
      "execution_count": 3,
      "outputs": [
        {
          "output_type": "execute_result",
          "data": {
            "text/plain": [
              "(21613, 20)"
            ]
          },
          "metadata": {
            "tags": []
          },
          "execution_count": 3
        }
      ]
    },
    {
      "cell_type": "code",
      "metadata": {
        "id": "xHhTw5eKWr0n",
        "colab_type": "code",
        "colab": {
          "base_uri": "https://localhost:8080/",
          "height": 222
        },
        "outputId": "36d8a954-bdfe-4a43-faac-ffcaa8f64656"
      },
      "source": [
        "# Previewing the top of our dataset\n",
        "#\n",
        "house.head()"
      ],
      "execution_count": 4,
      "outputs": [
        {
          "output_type": "execute_result",
          "data": {
            "text/html": [
              "<div>\n",
              "<style scoped>\n",
              "    .dataframe tbody tr th:only-of-type {\n",
              "        vertical-align: middle;\n",
              "    }\n",
              "\n",
              "    .dataframe tbody tr th {\n",
              "        vertical-align: top;\n",
              "    }\n",
              "\n",
              "    .dataframe thead th {\n",
              "        text-align: right;\n",
              "    }\n",
              "</style>\n",
              "<table border=\"1\" class=\"dataframe\">\n",
              "  <thead>\n",
              "    <tr style=\"text-align: right;\">\n",
              "      <th></th>\n",
              "      <th>id</th>\n",
              "      <th>price</th>\n",
              "      <th>bedrooms</th>\n",
              "      <th>bathrooms</th>\n",
              "      <th>sqft_living</th>\n",
              "      <th>sqft_lot</th>\n",
              "      <th>floors</th>\n",
              "      <th>waterfront</th>\n",
              "      <th>view</th>\n",
              "      <th>condition</th>\n",
              "      <th>grade</th>\n",
              "      <th>sqft_above</th>\n",
              "      <th>sqft_basement</th>\n",
              "      <th>yr_built</th>\n",
              "      <th>yr_renovated</th>\n",
              "      <th>zipcode</th>\n",
              "      <th>lat</th>\n",
              "      <th>long</th>\n",
              "      <th>sqft_living15</th>\n",
              "      <th>sqft_lot15</th>\n",
              "    </tr>\n",
              "  </thead>\n",
              "  <tbody>\n",
              "    <tr>\n",
              "      <th>0</th>\n",
              "      <td>7129300520</td>\n",
              "      <td>221900.0</td>\n",
              "      <td>3</td>\n",
              "      <td>1.00</td>\n",
              "      <td>1180</td>\n",
              "      <td>5650</td>\n",
              "      <td>1.0</td>\n",
              "      <td>0</td>\n",
              "      <td>0</td>\n",
              "      <td>3</td>\n",
              "      <td>7</td>\n",
              "      <td>1180</td>\n",
              "      <td>0</td>\n",
              "      <td>1955</td>\n",
              "      <td>0</td>\n",
              "      <td>98178</td>\n",
              "      <td>47.5112</td>\n",
              "      <td>-122.257</td>\n",
              "      <td>1340</td>\n",
              "      <td>5650</td>\n",
              "    </tr>\n",
              "    <tr>\n",
              "      <th>1</th>\n",
              "      <td>6414100192</td>\n",
              "      <td>538000.0</td>\n",
              "      <td>3</td>\n",
              "      <td>2.25</td>\n",
              "      <td>2570</td>\n",
              "      <td>7242</td>\n",
              "      <td>2.0</td>\n",
              "      <td>0</td>\n",
              "      <td>0</td>\n",
              "      <td>3</td>\n",
              "      <td>7</td>\n",
              "      <td>2170</td>\n",
              "      <td>400</td>\n",
              "      <td>1951</td>\n",
              "      <td>1991</td>\n",
              "      <td>98125</td>\n",
              "      <td>47.7210</td>\n",
              "      <td>-122.319</td>\n",
              "      <td>1690</td>\n",
              "      <td>7639</td>\n",
              "    </tr>\n",
              "    <tr>\n",
              "      <th>2</th>\n",
              "      <td>5631500400</td>\n",
              "      <td>180000.0</td>\n",
              "      <td>2</td>\n",
              "      <td>1.00</td>\n",
              "      <td>770</td>\n",
              "      <td>10000</td>\n",
              "      <td>1.0</td>\n",
              "      <td>0</td>\n",
              "      <td>0</td>\n",
              "      <td>3</td>\n",
              "      <td>6</td>\n",
              "      <td>770</td>\n",
              "      <td>0</td>\n",
              "      <td>1933</td>\n",
              "      <td>0</td>\n",
              "      <td>98028</td>\n",
              "      <td>47.7379</td>\n",
              "      <td>-122.233</td>\n",
              "      <td>2720</td>\n",
              "      <td>8062</td>\n",
              "    </tr>\n",
              "    <tr>\n",
              "      <th>3</th>\n",
              "      <td>2487200875</td>\n",
              "      <td>604000.0</td>\n",
              "      <td>4</td>\n",
              "      <td>3.00</td>\n",
              "      <td>1960</td>\n",
              "      <td>5000</td>\n",
              "      <td>1.0</td>\n",
              "      <td>0</td>\n",
              "      <td>0</td>\n",
              "      <td>5</td>\n",
              "      <td>7</td>\n",
              "      <td>1050</td>\n",
              "      <td>910</td>\n",
              "      <td>1965</td>\n",
              "      <td>0</td>\n",
              "      <td>98136</td>\n",
              "      <td>47.5208</td>\n",
              "      <td>-122.393</td>\n",
              "      <td>1360</td>\n",
              "      <td>5000</td>\n",
              "    </tr>\n",
              "    <tr>\n",
              "      <th>4</th>\n",
              "      <td>1954400510</td>\n",
              "      <td>510000.0</td>\n",
              "      <td>3</td>\n",
              "      <td>2.00</td>\n",
              "      <td>1680</td>\n",
              "      <td>8080</td>\n",
              "      <td>1.0</td>\n",
              "      <td>0</td>\n",
              "      <td>0</td>\n",
              "      <td>3</td>\n",
              "      <td>8</td>\n",
              "      <td>1680</td>\n",
              "      <td>0</td>\n",
              "      <td>1987</td>\n",
              "      <td>0</td>\n",
              "      <td>98074</td>\n",
              "      <td>47.6168</td>\n",
              "      <td>-122.045</td>\n",
              "      <td>1800</td>\n",
              "      <td>7503</td>\n",
              "    </tr>\n",
              "  </tbody>\n",
              "</table>\n",
              "</div>"
            ],
            "text/plain": [
              "           id     price  bedrooms  ...     long  sqft_living15  sqft_lot15\n",
              "0  7129300520  221900.0         3  ... -122.257           1340        5650\n",
              "1  6414100192  538000.0         3  ... -122.319           1690        7639\n",
              "2  5631500400  180000.0         2  ... -122.233           2720        8062\n",
              "3  2487200875  604000.0         4  ... -122.393           1360        5000\n",
              "4  1954400510  510000.0         3  ... -122.045           1800        7503\n",
              "\n",
              "[5 rows x 20 columns]"
            ]
          },
          "metadata": {
            "tags": []
          },
          "execution_count": 4
        }
      ]
    },
    {
      "cell_type": "code",
      "metadata": {
        "id": "e9AzGcZFrIIr",
        "colab_type": "code",
        "colab": {
          "base_uri": "https://localhost:8080/",
          "height": 222
        },
        "outputId": "e925769e-cff7-4577-990e-9dcb42a47839"
      },
      "source": [
        "# Previewing the bottom of our dataset\n",
        "# \n",
        "house.tail()"
      ],
      "execution_count": 5,
      "outputs": [
        {
          "output_type": "execute_result",
          "data": {
            "text/html": [
              "<div>\n",
              "<style scoped>\n",
              "    .dataframe tbody tr th:only-of-type {\n",
              "        vertical-align: middle;\n",
              "    }\n",
              "\n",
              "    .dataframe tbody tr th {\n",
              "        vertical-align: top;\n",
              "    }\n",
              "\n",
              "    .dataframe thead th {\n",
              "        text-align: right;\n",
              "    }\n",
              "</style>\n",
              "<table border=\"1\" class=\"dataframe\">\n",
              "  <thead>\n",
              "    <tr style=\"text-align: right;\">\n",
              "      <th></th>\n",
              "      <th>id</th>\n",
              "      <th>price</th>\n",
              "      <th>bedrooms</th>\n",
              "      <th>bathrooms</th>\n",
              "      <th>sqft_living</th>\n",
              "      <th>sqft_lot</th>\n",
              "      <th>floors</th>\n",
              "      <th>waterfront</th>\n",
              "      <th>view</th>\n",
              "      <th>condition</th>\n",
              "      <th>grade</th>\n",
              "      <th>sqft_above</th>\n",
              "      <th>sqft_basement</th>\n",
              "      <th>yr_built</th>\n",
              "      <th>yr_renovated</th>\n",
              "      <th>zipcode</th>\n",
              "      <th>lat</th>\n",
              "      <th>long</th>\n",
              "      <th>sqft_living15</th>\n",
              "      <th>sqft_lot15</th>\n",
              "    </tr>\n",
              "  </thead>\n",
              "  <tbody>\n",
              "    <tr>\n",
              "      <th>21608</th>\n",
              "      <td>263000018</td>\n",
              "      <td>360000.0</td>\n",
              "      <td>3</td>\n",
              "      <td>2.50</td>\n",
              "      <td>1530</td>\n",
              "      <td>1131</td>\n",
              "      <td>3.0</td>\n",
              "      <td>0</td>\n",
              "      <td>0</td>\n",
              "      <td>3</td>\n",
              "      <td>8</td>\n",
              "      <td>1530</td>\n",
              "      <td>0</td>\n",
              "      <td>2009</td>\n",
              "      <td>0</td>\n",
              "      <td>98103</td>\n",
              "      <td>47.6993</td>\n",
              "      <td>-122.346</td>\n",
              "      <td>1530</td>\n",
              "      <td>1509</td>\n",
              "    </tr>\n",
              "    <tr>\n",
              "      <th>21609</th>\n",
              "      <td>6600060120</td>\n",
              "      <td>400000.0</td>\n",
              "      <td>4</td>\n",
              "      <td>2.50</td>\n",
              "      <td>2310</td>\n",
              "      <td>5813</td>\n",
              "      <td>2.0</td>\n",
              "      <td>0</td>\n",
              "      <td>0</td>\n",
              "      <td>3</td>\n",
              "      <td>8</td>\n",
              "      <td>2310</td>\n",
              "      <td>0</td>\n",
              "      <td>2014</td>\n",
              "      <td>0</td>\n",
              "      <td>98146</td>\n",
              "      <td>47.5107</td>\n",
              "      <td>-122.362</td>\n",
              "      <td>1830</td>\n",
              "      <td>7200</td>\n",
              "    </tr>\n",
              "    <tr>\n",
              "      <th>21610</th>\n",
              "      <td>1523300141</td>\n",
              "      <td>402101.0</td>\n",
              "      <td>2</td>\n",
              "      <td>0.75</td>\n",
              "      <td>1020</td>\n",
              "      <td>1350</td>\n",
              "      <td>2.0</td>\n",
              "      <td>0</td>\n",
              "      <td>0</td>\n",
              "      <td>3</td>\n",
              "      <td>7</td>\n",
              "      <td>1020</td>\n",
              "      <td>0</td>\n",
              "      <td>2009</td>\n",
              "      <td>0</td>\n",
              "      <td>98144</td>\n",
              "      <td>47.5944</td>\n",
              "      <td>-122.299</td>\n",
              "      <td>1020</td>\n",
              "      <td>2007</td>\n",
              "    </tr>\n",
              "    <tr>\n",
              "      <th>21611</th>\n",
              "      <td>291310100</td>\n",
              "      <td>400000.0</td>\n",
              "      <td>3</td>\n",
              "      <td>2.50</td>\n",
              "      <td>1600</td>\n",
              "      <td>2388</td>\n",
              "      <td>2.0</td>\n",
              "      <td>0</td>\n",
              "      <td>0</td>\n",
              "      <td>3</td>\n",
              "      <td>8</td>\n",
              "      <td>1600</td>\n",
              "      <td>0</td>\n",
              "      <td>2004</td>\n",
              "      <td>0</td>\n",
              "      <td>98027</td>\n",
              "      <td>47.5345</td>\n",
              "      <td>-122.069</td>\n",
              "      <td>1410</td>\n",
              "      <td>1287</td>\n",
              "    </tr>\n",
              "    <tr>\n",
              "      <th>21612</th>\n",
              "      <td>1523300157</td>\n",
              "      <td>325000.0</td>\n",
              "      <td>2</td>\n",
              "      <td>0.75</td>\n",
              "      <td>1020</td>\n",
              "      <td>1076</td>\n",
              "      <td>2.0</td>\n",
              "      <td>0</td>\n",
              "      <td>0</td>\n",
              "      <td>3</td>\n",
              "      <td>7</td>\n",
              "      <td>1020</td>\n",
              "      <td>0</td>\n",
              "      <td>2008</td>\n",
              "      <td>0</td>\n",
              "      <td>98144</td>\n",
              "      <td>47.5941</td>\n",
              "      <td>-122.299</td>\n",
              "      <td>1020</td>\n",
              "      <td>1357</td>\n",
              "    </tr>\n",
              "  </tbody>\n",
              "</table>\n",
              "</div>"
            ],
            "text/plain": [
              "               id     price  bedrooms  ...     long  sqft_living15  sqft_lot15\n",
              "21608   263000018  360000.0         3  ... -122.346           1530        1509\n",
              "21609  6600060120  400000.0         4  ... -122.362           1830        7200\n",
              "21610  1523300141  402101.0         2  ... -122.299           1020        2007\n",
              "21611   291310100  400000.0         3  ... -122.069           1410        1287\n",
              "21612  1523300157  325000.0         2  ... -122.299           1020        1357\n",
              "\n",
              "[5 rows x 20 columns]"
            ]
          },
          "metadata": {
            "tags": []
          },
          "execution_count": 5
        }
      ]
    },
    {
      "cell_type": "code",
      "metadata": {
        "id": "n8-dW4sQWzbc",
        "colab_type": "code",
        "colab": {
          "base_uri": "https://localhost:8080/",
          "height": 485
        },
        "outputId": "d1c3884e-6a91-4c8c-9cbf-b53b02e5dec9"
      },
      "source": [
        "# Checking whether each column has an appropriate datatype and also checking for missing values\n",
        "#\n",
        "house.info()\n",
        "# from the information below, the dataset does not contain missing values "
      ],
      "execution_count": 6,
      "outputs": [
        {
          "output_type": "stream",
          "text": [
            "<class 'pandas.core.frame.DataFrame'>\n",
            "RangeIndex: 21613 entries, 0 to 21612\n",
            "Data columns (total 20 columns):\n",
            " #   Column         Non-Null Count  Dtype  \n",
            "---  ------         --------------  -----  \n",
            " 0   id             21613 non-null  int64  \n",
            " 1   price          21613 non-null  float64\n",
            " 2   bedrooms       21613 non-null  int64  \n",
            " 3   bathrooms      21613 non-null  float64\n",
            " 4   sqft_living    21613 non-null  int64  \n",
            " 5   sqft_lot       21613 non-null  int64  \n",
            " 6   floors         21613 non-null  float64\n",
            " 7   waterfront     21613 non-null  int64  \n",
            " 8   view           21613 non-null  int64  \n",
            " 9   condition      21613 non-null  int64  \n",
            " 10  grade          21613 non-null  int64  \n",
            " 11  sqft_above     21613 non-null  int64  \n",
            " 12  sqft_basement  21613 non-null  int64  \n",
            " 13  yr_built       21613 non-null  int64  \n",
            " 14  yr_renovated   21613 non-null  int64  \n",
            " 15  zipcode        21613 non-null  int64  \n",
            " 16  lat            21613 non-null  float64\n",
            " 17  long           21613 non-null  float64\n",
            " 18  sqft_living15  21613 non-null  int64  \n",
            " 19  sqft_lot15     21613 non-null  int64  \n",
            "dtypes: float64(5), int64(15)\n",
            "memory usage: 3.3 MB\n"
          ],
          "name": "stdout"
        }
      ]
    },
    {
      "cell_type": "markdown",
      "metadata": {
        "id": "FlBMxEDBUc9B",
        "colab_type": "text"
      },
      "source": [
        "## 5. Tidying the Dataset"
      ]
    },
    {
      "cell_type": "code",
      "metadata": {
        "id": "PWlukLKUvFQN",
        "colab_type": "code",
        "colab": {}
      },
      "source": [
        "# Checking for Anomalies\n",
        "#"
      ],
      "execution_count": 7,
      "outputs": []
    },
    {
      "cell_type": "code",
      "metadata": {
        "id": "PvCYb6dgW4yh",
        "colab_type": "code",
        "colab": {
          "base_uri": "https://localhost:8080/",
          "height": 35
        },
        "outputId": "fbcf9dd3-41f4-4aff-9585-067a41ff8c4f"
      },
      "source": [
        "# checking for duplicate values\n",
        "#\n",
        "house.duplicated().any()"
      ],
      "execution_count": 8,
      "outputs": [
        {
          "output_type": "execute_result",
          "data": {
            "text/plain": [
              "True"
            ]
          },
          "metadata": {
            "tags": []
          },
          "execution_count": 8
        }
      ]
    },
    {
      "cell_type": "code",
      "metadata": {
        "id": "MpsDGKZHsf_W",
        "colab_type": "code",
        "colab": {}
      },
      "source": [
        "# dropping duplicated values\n",
        "#\n",
        "house.drop_duplicates(keep='first', inplace=True)\n",
        "# "
      ],
      "execution_count": 9,
      "outputs": []
    },
    {
      "cell_type": "code",
      "metadata": {
        "id": "9ImldjqrQNCZ",
        "colab_type": "code",
        "colab": {
          "base_uri": "https://localhost:8080/",
          "height": 35
        },
        "outputId": "3f3e34c9-9056-4bb3-f3c9-b84d2c23f296"
      },
      "source": [
        "# verifying to ensure that we dont have any more duplicates\n",
        "#\n",
        "house.duplicated().any()"
      ],
      "execution_count": 10,
      "outputs": [
        {
          "output_type": "execute_result",
          "data": {
            "text/plain": [
              "False"
            ]
          },
          "metadata": {
            "tags": []
          },
          "execution_count": 10
        }
      ]
    },
    {
      "cell_type": "code",
      "metadata": {
        "id": "KCI6Cm9tQwUy",
        "colab_type": "code",
        "colab": {
          "base_uri": "https://localhost:8080/",
          "height": 35
        },
        "outputId": "800d9ee1-6651-4153-aad2-3d26aa856f7e"
      },
      "source": [
        "# checking shape after dropping duplicates\n",
        "house.shape"
      ],
      "execution_count": 11,
      "outputs": [
        {
          "output_type": "execute_result",
          "data": {
            "text/plain": [
              "(21610, 20)"
            ]
          },
          "metadata": {
            "tags": []
          },
          "execution_count": 11
        }
      ]
    },
    {
      "cell_type": "code",
      "metadata": {
        "id": "YiFmdd_VREKn",
        "colab_type": "code",
        "colab": {
          "base_uri": "https://localhost:8080/",
          "height": 465
        },
        "outputId": "fec033c7-cac1-4238-ab4a-8a98374a125d"
      },
      "source": [
        "# checking for outliers \n",
        "fig, ax = plt.subplots(1,2, figsize=(13,7))\n",
        "fig.suptitle('Boxplots')\n",
        "sns.boxplot(data=house, y = 'price', ax=ax[0])\n",
        "ax[0].set_title('plot for the prices')\n",
        "sns.boxplot(data=house, y = 'bedrooms', ax=ax[1])\n",
        "ax[1].set_title('plot for the number of bedrooms')\n",
        "\n",
        "plt.show()\n"
      ],
      "execution_count": 12,
      "outputs": [
        {
          "output_type": "display_data",
          "data": {
            "image/png": "[encoded data removed]",
            "text/plain": [
              "<Figure size 936x504 with 2 Axes>"
            ]
          },
          "metadata": {
            "tags": [],
            "needs_background": "light"
          }
        }
      ]
    },
    {
      "cell_type": "code",
      "metadata": {
        "id": "nGozP8e0Upf9",
        "colab_type": "code",
        "colab": {
          "base_uri": "https://localhost:8080/",
          "height": 35
        },
        "outputId": "0da7ef93-1734-45b6-bd9f-c8384cbd9bd7"
      },
      "source": [
        "# checking for missing values\n",
        "house.isnull().any().sum()"
      ],
      "execution_count": 13,
      "outputs": [
        {
          "output_type": "execute_result",
          "data": {
            "text/plain": [
              "0"
            ]
          },
          "metadata": {
            "tags": []
          },
          "execution_count": 13
        }
      ]
    },
    {
      "cell_type": "code",
      "metadata": {
        "id": "D-4I__6Os4C5",
        "colab_type": "code",
        "colab": {}
      },
      "source": [
        "# dropping the column ID\n",
        "#\n",
        "house = house.drop('id', axis=1)\n",
        "\n"
      ],
      "execution_count": 14,
      "outputs": []
    },
    {
      "cell_type": "markdown",
      "metadata": {
        "id": "rF2ABPsHUtbZ",
        "colab_type": "text"
      },
      "source": [
        "## 6. Exploratory Analysis"
      ]
    },
    {
      "cell_type": "markdown",
      "metadata": {
        "id": "XpS0TEBzVJjt",
        "colab_type": "text"
      },
      "source": [
        "Univariate Analysis"
      ]
    },
    {
      "cell_type": "code",
      "metadata": {
        "id": "5nnRToniXGDK",
        "colab_type": "code",
        "colab": {
          "base_uri": "https://localhost:8080/",
          "height": 225
        },
        "outputId": "5c4deaa9-5495-4760-9895-3a8d3d7996d6"
      },
      "source": [
        "# frequency table for the price\n",
        "#\n",
        "house.price.value_counts()"
      ],
      "execution_count": 15,
      "outputs": [
        {
          "output_type": "execute_result",
          "data": {
            "text/plain": [
              "450000.0    172\n",
              "350000.0    172\n",
              "550000.0    158\n",
              "500000.0    152\n",
              "425000.0    150\n",
              "           ... \n",
              "234975.0      1\n",
              "804995.0      1\n",
              "870515.0      1\n",
              "336950.0      1\n",
              "884744.0      1\n",
              "Name: price, Length: 3625, dtype: int64"
            ]
          },
          "metadata": {
            "tags": []
          },
          "execution_count": 15
        }
      ]
    },
    {
      "cell_type": "code",
      "metadata": {
        "id": "MSYSNgtmWC7X",
        "colab_type": "code",
        "colab": {
          "base_uri": "https://localhost:8080/",
          "height": 225
        },
        "outputId": "a67c0f5e-7ae4-4d26-db6e-e49aa4716778"
      },
      "source": [
        "# frequency table for the year built\n",
        "house.yr_built.value_counts()"
      ],
      "execution_count": 16,
      "outputs": [
        {
          "output_type": "execute_result",
          "data": {
            "text/plain": [
              "2014    559\n",
              "2006    454\n",
              "2005    450\n",
              "2004    433\n",
              "2003    422\n",
              "       ... \n",
              "1933     30\n",
              "1901     29\n",
              "1902     27\n",
              "1935     24\n",
              "1934     21\n",
              "Name: yr_built, Length: 116, dtype: int64"
            ]
          },
          "metadata": {
            "tags": []
          },
          "execution_count": 16
        }
      ]
    },
    {
      "cell_type": "code",
      "metadata": {
        "id": "n0VdqMuIWmcA",
        "colab_type": "code",
        "colab": {
          "base_uri": "https://localhost:8080/",
          "height": 225
        },
        "outputId": "18750200-e10e-4ebc-c713-6673477d9139"
      },
      "source": [
        "# frequency table for the zipcode\n",
        "house.zipcode.value_counts()"
      ],
      "execution_count": 17,
      "outputs": [
        {
          "output_type": "execute_result",
          "data": {
            "text/plain": [
              "98103    602\n",
              "98038    590\n",
              "98115    583\n",
              "98052    574\n",
              "98117    553\n",
              "        ... \n",
              "98102    105\n",
              "98010    100\n",
              "98024     81\n",
              "98148     57\n",
              "98039     50\n",
              "Name: zipcode, Length: 70, dtype: int64"
            ]
          },
          "metadata": {
            "tags": []
          },
          "execution_count": 17
        }
      ]
    },
    {
      "cell_type": "code",
      "metadata": {
        "id": "BrTc7uwSW6H6",
        "colab_type": "code",
        "colab": {
          "base_uri": "https://localhost:8080/",
          "height": 69
        },
        "outputId": "20df4941-967b-4b38-bc87-6e91b4fe7d1b"
      },
      "source": [
        "# frequency table for the waterfront\n",
        "house.waterfront.value_counts()\n"
      ],
      "execution_count": 18,
      "outputs": [
        {
          "output_type": "execute_result",
          "data": {
            "text/plain": [
              "0    21447\n",
              "1      163\n",
              "Name: waterfront, dtype: int64"
            ]
          },
          "metadata": {
            "tags": []
          },
          "execution_count": 18
        }
      ]
    },
    {
      "cell_type": "code",
      "metadata": {
        "id": "1DQRsr-xXkxy",
        "colab_type": "code",
        "colab": {
          "base_uri": "https://localhost:8080/",
          "height": 139
        },
        "outputId": "a1f96158-de28-498a-cb5d-699643bd3416"
      },
      "source": [
        "# frequency table for the floor\n",
        "house.floors.value_counts()"
      ],
      "execution_count": 19,
      "outputs": [
        {
          "output_type": "execute_result",
          "data": {
            "text/plain": [
              "1.0    10680\n",
              "2.0     8238\n",
              "1.5     1910\n",
              "3.0      613\n",
              "2.5      161\n",
              "3.5        8\n",
              "Name: floors, dtype: int64"
            ]
          },
          "metadata": {
            "tags": []
          },
          "execution_count": 19
        }
      ]
    },
    {
      "cell_type": "code",
      "metadata": {
        "id": "iKUhgRW5YMpB",
        "colab_type": "code",
        "colab": {
          "base_uri": "https://localhost:8080/",
          "height": 243
        },
        "outputId": "2a6e3e19-eedb-4cde-a8ec-0e3bbaa2c982"
      },
      "source": [
        "# frequency table for the grade\n",
        "house.grade.value_counts()"
      ],
      "execution_count": 20,
      "outputs": [
        {
          "output_type": "execute_result",
          "data": {
            "text/plain": [
              "7     8981\n",
              "8     6066\n",
              "9     2614\n",
              "6     2038\n",
              "10    1134\n",
              "11     399\n",
              "5      242\n",
              "12      90\n",
              "4       29\n",
              "13      13\n",
              "3        3\n",
              "1        1\n",
              "Name: grade, dtype: int64"
            ]
          },
          "metadata": {
            "tags": []
          },
          "execution_count": 20
        }
      ]
    },
    {
      "cell_type": "code",
      "metadata": {
        "id": "Cfdsfsamaaed",
        "colab_type": "code",
        "colab": {
          "base_uri": "https://localhost:8080/",
          "height": 639
        },
        "outputId": "9becfc1d-0e19-48d9-d221-e3b285105143"
      },
      "source": [
        "# histogram plots \n",
        "fig, ax = plt.subplots(1,2, figsize= (13, 10))\n",
        "house['sqft_living'].plot.hist(ax=ax[0], bins=10, edgecolor='black', color= 'blue')\n",
        "ax[0].set_title('freq plot for sqft area of the living area')\n",
        "\n",
        "house['sqft_lot'].plot.hist(ax=ax[1], bins=10, color= 'orange')\n",
        "ax[1].set_title('freq plot for sqft area of the parking lot area')\n"
      ],
      "execution_count": 21,
      "outputs": [
        {
          "output_type": "execute_result",
          "data": {
            "text/plain": [
              "Text(0.5, 1.0, 'freq plot for sqft area of the parking lot area')"
            ]
          },
          "metadata": {
            "tags": []
          },
          "execution_count": 21
        },
        {
          "output_type": "display_data",
          "data": {
            "image/png": "[encoded data removed]",
            "text/plain": [
              "<Figure size 936x720 with 2 Axes>"
            ]
          },
          "metadata": {
            "tags": [],
            "needs_background": "light"
          }
        }
      ]
    },
    {
      "cell_type": "code",
      "metadata": {
        "id": "CR0WvreqdpIq",
        "colab_type": "code",
        "colab": {
          "base_uri": "https://localhost:8080/",
          "height": 499
        },
        "outputId": "c24dd442-46ee-4371-88ec-7ea6cbcd5844"
      },
      "source": [
        "# histogram plot for no of bathrooms and bedrooms\n",
        "fig, ax = plt.subplots(1,2, figsize=(13,8))\n",
        "house['bedrooms'].plot.hist(ax=ax[0], bins=10, edgecolor='black', color= 'royalblue')\n",
        "ax[0].set_title('freq plot for the number of bedrooms')\n",
        "\n",
        "house['bathrooms'].plot.hist(ax=ax[1], bins=10, edgecolor='black', color= 'grey')\n",
        "ax[1].set_title('freq plot for the number of bathrooms')\n",
        "plt.show()\n"
      ],
      "execution_count": 22,
      "outputs": [
        {
          "output_type": "display_data",
          "data": {
            "image/png": "[encoded data removed]",
            "text/plain": [
              "<Figure size 936x576 with 2 Axes>"
            ]
          },
          "metadata": {
            "tags": [],
            "needs_background": "light"
          }
        }
      ]
    },
    {
      "cell_type": "markdown",
      "metadata": {
        "id": "5Zk8J8qAiXoB",
        "colab_type": "text"
      },
      "source": [
        "Bivariate Analysis"
      ]
    },
    {
      "cell_type": "code",
      "metadata": {
        "id": "j7xmThhVjyFB",
        "colab_type": "code",
        "colab": {
          "base_uri": "https://localhost:8080/",
          "height": 295
        },
        "outputId": "17cdb5e6-e8c9-40e4-b597-df29bceb9bbb"
      },
      "source": [
        "# scatter plot showing the relationship between size and sqrft living\n",
        "house.plot(x='sqft_living', y='price', kind='scatter')\n",
        "plt.xlabel('price')\n",
        "plt.ylabel('sqft_living')\n",
        "plt.title('scatter plot showing relationshi between price and size in sqft_living')\n",
        "plt.show()"
      ],
      "execution_count": 23,
      "outputs": [
        {
          "output_type": "display_data",
          "data": {
            "image/png": "[encoded data removed]",
            "text/plain": [
              "<Figure size 432x288 with 1 Axes>"
            ]
          },
          "metadata": {
            "tags": [],
            "needs_background": "light"
          }
        }
      ]
    },
    {
      "cell_type": "code",
      "metadata": {
        "id": "bL5zw89N6wcI",
        "colab_type": "code",
        "colab": {
          "base_uri": "https://localhost:8080/",
          "height": 651
        },
        "outputId": "7c48e27c-67e1-4f70-b062-d654bd87b0be"
      },
      "source": [
        "# checking for the correlation  \n",
        "house.corr()"
      ],
      "execution_count": 24,
      "outputs": [
        {
          "output_type": "execute_result",
          "data": {
            "text/html": [
              "<div>\n",
              "<style scoped>\n",
              "    .dataframe tbody tr th:only-of-type {\n",
              "        vertical-align: middle;\n",
              "    }\n",
              "\n",
              "    .dataframe tbody tr th {\n",
              "        vertical-align: top;\n",
              "    }\n",
              "\n",
              "    .dataframe thead th {\n",
              "        text-align: right;\n",
              "    }\n",
              "</style>\n",
              "<table border=\"1\" class=\"dataframe\">\n",
              "  <thead>\n",
              "    <tr style=\"text-align: right;\">\n",
              "      <th></th>\n",
              "      <th>price</th>\n",
              "      <th>bedrooms</th>\n",
              "      <th>bathrooms</th>\n",
              "      <th>sqft_living</th>\n",
              "      <th>sqft_lot</th>\n",
              "      <th>floors</th>\n",
              "      <th>waterfront</th>\n",
              "      <th>view</th>\n",
              "      <th>condition</th>\n",
              "      <th>grade</th>\n",
              "      <th>sqft_above</th>\n",
              "      <th>sqft_basement</th>\n",
              "      <th>yr_built</th>\n",
              "      <th>yr_renovated</th>\n",
              "      <th>zipcode</th>\n",
              "      <th>lat</th>\n",
              "      <th>long</th>\n",
              "      <th>sqft_living15</th>\n",
              "      <th>sqft_lot15</th>\n",
              "    </tr>\n",
              "  </thead>\n",
              "  <tbody>\n",
              "    <tr>\n",
              "      <th>price</th>\n",
              "      <td>1.000000</td>\n",
              "      <td>0.308346</td>\n",
              "      <td>0.525140</td>\n",
              "      <td>0.702046</td>\n",
              "      <td>0.089658</td>\n",
              "      <td>0.256793</td>\n",
              "      <td>0.266332</td>\n",
              "      <td>0.397466</td>\n",
              "      <td>0.036397</td>\n",
              "      <td>0.667478</td>\n",
              "      <td>0.605569</td>\n",
              "      <td>0.323849</td>\n",
              "      <td>0.053980</td>\n",
              "      <td>0.126503</td>\n",
              "      <td>-0.053162</td>\n",
              "      <td>0.306922</td>\n",
              "      <td>0.021567</td>\n",
              "      <td>0.585382</td>\n",
              "      <td>0.082457</td>\n",
              "    </tr>\n",
              "    <tr>\n",
              "      <th>bedrooms</th>\n",
              "      <td>0.308346</td>\n",
              "      <td>1.000000</td>\n",
              "      <td>0.515935</td>\n",
              "      <td>0.576674</td>\n",
              "      <td>0.031699</td>\n",
              "      <td>0.175448</td>\n",
              "      <td>-0.006583</td>\n",
              "      <td>0.079433</td>\n",
              "      <td>0.028422</td>\n",
              "      <td>0.357003</td>\n",
              "      <td>0.477619</td>\n",
              "      <td>0.303077</td>\n",
              "      <td>0.154276</td>\n",
              "      <td>0.018695</td>\n",
              "      <td>-0.152721</td>\n",
              "      <td>-0.008953</td>\n",
              "      <td>0.129474</td>\n",
              "      <td>0.391633</td>\n",
              "      <td>0.029233</td>\n",
              "    </tr>\n",
              "    <tr>\n",
              "      <th>bathrooms</th>\n",
              "      <td>0.525140</td>\n",
              "      <td>0.515935</td>\n",
              "      <td>1.000000</td>\n",
              "      <td>0.754688</td>\n",
              "      <td>0.087750</td>\n",
              "      <td>0.500669</td>\n",
              "      <td>0.063747</td>\n",
              "      <td>0.187891</td>\n",
              "      <td>-0.124940</td>\n",
              "      <td>0.664990</td>\n",
              "      <td>0.685351</td>\n",
              "      <td>0.283814</td>\n",
              "      <td>0.505997</td>\n",
              "      <td>0.050879</td>\n",
              "      <td>-0.203831</td>\n",
              "      <td>0.024590</td>\n",
              "      <td>0.223047</td>\n",
              "      <td>0.568665</td>\n",
              "      <td>0.087191</td>\n",
              "    </tr>\n",
              "    <tr>\n",
              "      <th>sqft_living</th>\n",
              "      <td>0.702046</td>\n",
              "      <td>0.576674</td>\n",
              "      <td>0.754688</td>\n",
              "      <td>1.000000</td>\n",
              "      <td>0.172830</td>\n",
              "      <td>0.353954</td>\n",
              "      <td>0.103820</td>\n",
              "      <td>0.284641</td>\n",
              "      <td>-0.058768</td>\n",
              "      <td>0.762719</td>\n",
              "      <td>0.876600</td>\n",
              "      <td>0.435054</td>\n",
              "      <td>0.318099</td>\n",
              "      <td>0.055314</td>\n",
              "      <td>-0.199435</td>\n",
              "      <td>0.052521</td>\n",
              "      <td>0.240221</td>\n",
              "      <td>0.756420</td>\n",
              "      <td>0.183285</td>\n",
              "    </tr>\n",
              "    <tr>\n",
              "      <th>sqft_lot</th>\n",
              "      <td>0.089658</td>\n",
              "      <td>0.031699</td>\n",
              "      <td>0.087750</td>\n",
              "      <td>0.172830</td>\n",
              "      <td>1.000000</td>\n",
              "      <td>-0.005171</td>\n",
              "      <td>0.021601</td>\n",
              "      <td>0.074753</td>\n",
              "      <td>-0.008967</td>\n",
              "      <td>0.113644</td>\n",
              "      <td>0.183527</td>\n",
              "      <td>0.015271</td>\n",
              "      <td>0.053105</td>\n",
              "      <td>0.007677</td>\n",
              "      <td>-0.129611</td>\n",
              "      <td>-0.085680</td>\n",
              "      <td>0.229552</td>\n",
              "      <td>0.144620</td>\n",
              "      <td>0.718556</td>\n",
              "    </tr>\n",
              "    <tr>\n",
              "      <th>floors</th>\n",
              "      <td>0.256793</td>\n",
              "      <td>0.175448</td>\n",
              "      <td>0.500669</td>\n",
              "      <td>0.353954</td>\n",
              "      <td>-0.005171</td>\n",
              "      <td>1.000000</td>\n",
              "      <td>0.023711</td>\n",
              "      <td>0.029325</td>\n",
              "      <td>-0.263779</td>\n",
              "      <td>0.458151</td>\n",
              "      <td>0.523874</td>\n",
              "      <td>-0.245673</td>\n",
              "      <td>0.489347</td>\n",
              "      <td>0.006156</td>\n",
              "      <td>-0.059025</td>\n",
              "      <td>0.049593</td>\n",
              "      <td>0.125343</td>\n",
              "      <td>0.279861</td>\n",
              "      <td>-0.011250</td>\n",
              "    </tr>\n",
              "    <tr>\n",
              "      <th>waterfront</th>\n",
              "      <td>0.266332</td>\n",
              "      <td>-0.006583</td>\n",
              "      <td>0.063747</td>\n",
              "      <td>0.103820</td>\n",
              "      <td>0.021601</td>\n",
              "      <td>0.023711</td>\n",
              "      <td>1.000000</td>\n",
              "      <td>0.401993</td>\n",
              "      <td>0.016652</td>\n",
              "      <td>0.082785</td>\n",
              "      <td>0.072080</td>\n",
              "      <td>0.080585</td>\n",
              "      <td>-0.026159</td>\n",
              "      <td>0.092950</td>\n",
              "      <td>0.030277</td>\n",
              "      <td>-0.014272</td>\n",
              "      <td>-0.041904</td>\n",
              "      <td>0.086469</td>\n",
              "      <td>0.030702</td>\n",
              "    </tr>\n",
              "    <tr>\n",
              "      <th>view</th>\n",
              "      <td>0.397466</td>\n",
              "      <td>0.079433</td>\n",
              "      <td>0.187891</td>\n",
              "      <td>0.284641</td>\n",
              "      <td>0.074753</td>\n",
              "      <td>0.029325</td>\n",
              "      <td>0.401993</td>\n",
              "      <td>1.000000</td>\n",
              "      <td>0.045836</td>\n",
              "      <td>0.251378</td>\n",
              "      <td>0.167659</td>\n",
              "      <td>0.276996</td>\n",
              "      <td>-0.053229</td>\n",
              "      <td>0.103208</td>\n",
              "      <td>0.084838</td>\n",
              "      <td>0.006049</td>\n",
              "      <td>-0.078560</td>\n",
              "      <td>0.280404</td>\n",
              "      <td>0.072577</td>\n",
              "    </tr>\n",
              "    <tr>\n",
              "      <th>condition</th>\n",
              "      <td>0.036397</td>\n",
              "      <td>0.028422</td>\n",
              "      <td>-0.124940</td>\n",
              "      <td>-0.058768</td>\n",
              "      <td>-0.008967</td>\n",
              "      <td>-0.263779</td>\n",
              "      <td>0.016652</td>\n",
              "      <td>0.045836</td>\n",
              "      <td>1.000000</td>\n",
              "      <td>-0.144655</td>\n",
              "      <td>-0.158212</td>\n",
              "      <td>0.174071</td>\n",
              "      <td>-0.361347</td>\n",
              "      <td>-0.060862</td>\n",
              "      <td>0.002962</td>\n",
              "      <td>-0.014971</td>\n",
              "      <td>-0.106512</td>\n",
              "      <td>-0.092854</td>\n",
              "      <td>-0.003424</td>\n",
              "    </tr>\n",
              "    <tr>\n",
              "      <th>grade</th>\n",
              "      <td>0.667478</td>\n",
              "      <td>0.357003</td>\n",
              "      <td>0.664990</td>\n",
              "      <td>0.762719</td>\n",
              "      <td>0.113644</td>\n",
              "      <td>0.458151</td>\n",
              "      <td>0.082785</td>\n",
              "      <td>0.251378</td>\n",
              "      <td>-0.144655</td>\n",
              "      <td>1.000000</td>\n",
              "      <td>0.755919</td>\n",
              "      <td>0.168443</td>\n",
              "      <td>0.446966</td>\n",
              "      <td>0.014372</td>\n",
              "      <td>-0.184795</td>\n",
              "      <td>0.114086</td>\n",
              "      <td>0.198347</td>\n",
              "      <td>0.713208</td>\n",
              "      <td>0.119265</td>\n",
              "    </tr>\n",
              "    <tr>\n",
              "      <th>sqft_above</th>\n",
              "      <td>0.605569</td>\n",
              "      <td>0.477619</td>\n",
              "      <td>0.685351</td>\n",
              "      <td>0.876600</td>\n",
              "      <td>0.183527</td>\n",
              "      <td>0.523874</td>\n",
              "      <td>0.072080</td>\n",
              "      <td>0.167659</td>\n",
              "      <td>-0.158212</td>\n",
              "      <td>0.755919</td>\n",
              "      <td>1.000000</td>\n",
              "      <td>-0.051923</td>\n",
              "      <td>0.423922</td>\n",
              "      <td>0.023233</td>\n",
              "      <td>-0.261163</td>\n",
              "      <td>-0.000823</td>\n",
              "      <td>0.343791</td>\n",
              "      <td>0.731870</td>\n",
              "      <td>0.194060</td>\n",
              "    </tr>\n",
              "    <tr>\n",
              "      <th>sqft_basement</th>\n",
              "      <td>0.323849</td>\n",
              "      <td>0.303077</td>\n",
              "      <td>0.283814</td>\n",
              "      <td>0.435054</td>\n",
              "      <td>0.015271</td>\n",
              "      <td>-0.245673</td>\n",
              "      <td>0.080585</td>\n",
              "      <td>0.276996</td>\n",
              "      <td>0.174071</td>\n",
              "      <td>0.168443</td>\n",
              "      <td>-0.051923</td>\n",
              "      <td>1.000000</td>\n",
              "      <td>-0.133062</td>\n",
              "      <td>0.071320</td>\n",
              "      <td>0.074781</td>\n",
              "      <td>0.110535</td>\n",
              "      <td>-0.144743</td>\n",
              "      <td>0.200367</td>\n",
              "      <td>0.017260</td>\n",
              "    </tr>\n",
              "    <tr>\n",
              "      <th>yr_built</th>\n",
              "      <td>0.053980</td>\n",
              "      <td>0.154276</td>\n",
              "      <td>0.505997</td>\n",
              "      <td>0.318099</td>\n",
              "      <td>0.053105</td>\n",
              "      <td>0.489347</td>\n",
              "      <td>-0.026159</td>\n",
              "      <td>-0.053229</td>\n",
              "      <td>-0.361347</td>\n",
              "      <td>0.446966</td>\n",
              "      <td>0.423922</td>\n",
              "      <td>-0.133062</td>\n",
              "      <td>1.000000</td>\n",
              "      <td>-0.224729</td>\n",
              "      <td>-0.346808</td>\n",
              "      <td>-0.148099</td>\n",
              "      <td>0.409395</td>\n",
              "      <td>0.326298</td>\n",
              "      <td>0.070999</td>\n",
              "    </tr>\n",
              "    <tr>\n",
              "      <th>yr_renovated</th>\n",
              "      <td>0.126503</td>\n",
              "      <td>0.018695</td>\n",
              "      <td>0.050879</td>\n",
              "      <td>0.055314</td>\n",
              "      <td>0.007677</td>\n",
              "      <td>0.006156</td>\n",
              "      <td>0.092950</td>\n",
              "      <td>0.103208</td>\n",
              "      <td>-0.060862</td>\n",
              "      <td>0.014372</td>\n",
              "      <td>0.023233</td>\n",
              "      <td>0.071320</td>\n",
              "      <td>-0.224729</td>\n",
              "      <td>1.000000</td>\n",
              "      <td>0.064388</td>\n",
              "      <td>0.029271</td>\n",
              "      <td>-0.068594</td>\n",
              "      <td>-0.002841</td>\n",
              "      <td>0.007837</td>\n",
              "    </tr>\n",
              "    <tr>\n",
              "      <th>zipcode</th>\n",
              "      <td>-0.053162</td>\n",
              "      <td>-0.152721</td>\n",
              "      <td>-0.203831</td>\n",
              "      <td>-0.199435</td>\n",
              "      <td>-0.129611</td>\n",
              "      <td>-0.059025</td>\n",
              "      <td>0.030277</td>\n",
              "      <td>0.084838</td>\n",
              "      <td>0.002962</td>\n",
              "      <td>-0.184795</td>\n",
              "      <td>-0.261163</td>\n",
              "      <td>0.074781</td>\n",
              "      <td>-0.346808</td>\n",
              "      <td>0.064388</td>\n",
              "      <td>1.000000</td>\n",
              "      <td>0.267064</td>\n",
              "      <td>-0.564069</td>\n",
              "      <td>-0.279033</td>\n",
              "      <td>-0.147257</td>\n",
              "    </tr>\n",
              "    <tr>\n",
              "      <th>lat</th>\n",
              "      <td>0.306922</td>\n",
              "      <td>-0.008953</td>\n",
              "      <td>0.024590</td>\n",
              "      <td>0.052521</td>\n",
              "      <td>-0.085680</td>\n",
              "      <td>0.049593</td>\n",
              "      <td>-0.014272</td>\n",
              "      <td>0.006049</td>\n",
              "      <td>-0.014971</td>\n",
              "      <td>0.114086</td>\n",
              "      <td>-0.000823</td>\n",
              "      <td>0.110535</td>\n",
              "      <td>-0.148099</td>\n",
              "      <td>0.029271</td>\n",
              "      <td>0.267064</td>\n",
              "      <td>1.000000</td>\n",
              "      <td>-0.135545</td>\n",
              "      <td>0.048839</td>\n",
              "      <td>-0.086423</td>\n",
              "    </tr>\n",
              "    <tr>\n",
              "      <th>long</th>\n",
              "      <td>0.021567</td>\n",
              "      <td>0.129474</td>\n",
              "      <td>0.223047</td>\n",
              "      <td>0.240221</td>\n",
              "      <td>0.229552</td>\n",
              "      <td>0.125343</td>\n",
              "      <td>-0.041904</td>\n",
              "      <td>-0.078560</td>\n",
              "      <td>-0.106512</td>\n",
              "      <td>0.198347</td>\n",
              "      <td>0.343791</td>\n",
              "      <td>-0.144743</td>\n",
              "      <td>0.409395</td>\n",
              "      <td>-0.068594</td>\n",
              "      <td>-0.564069</td>\n",
              "      <td>-0.135545</td>\n",
              "      <td>1.000000</td>\n",
              "      <td>0.334592</td>\n",
              "      <td>0.254475</td>\n",
              "    </tr>\n",
              "    <tr>\n",
              "      <th>sqft_living15</th>\n",
              "      <td>0.585382</td>\n",
              "      <td>0.391633</td>\n",
              "      <td>0.568665</td>\n",
              "      <td>0.756420</td>\n",
              "      <td>0.144620</td>\n",
              "      <td>0.279861</td>\n",
              "      <td>0.086469</td>\n",
              "      <td>0.280404</td>\n",
              "      <td>-0.092854</td>\n",
              "      <td>0.713208</td>\n",
              "      <td>0.731870</td>\n",
              "      <td>0.200367</td>\n",
              "      <td>0.326298</td>\n",
              "      <td>-0.002841</td>\n",
              "      <td>-0.279033</td>\n",
              "      <td>0.048839</td>\n",
              "      <td>0.334592</td>\n",
              "      <td>1.000000</td>\n",
              "      <td>0.183194</td>\n",
              "    </tr>\n",
              "    <tr>\n",
              "      <th>sqft_lot15</th>\n",
              "      <td>0.082457</td>\n",
              "      <td>0.029233</td>\n",
              "      <td>0.087191</td>\n",
              "      <td>0.183285</td>\n",
              "      <td>0.718556</td>\n",
              "      <td>-0.011250</td>\n",
              "      <td>0.030702</td>\n",
              "      <td>0.072577</td>\n",
              "      <td>-0.003424</td>\n",
              "      <td>0.119265</td>\n",
              "      <td>0.194060</td>\n",
              "      <td>0.017260</td>\n",
              "      <td>0.070999</td>\n",
              "      <td>0.007837</td>\n",
              "      <td>-0.147257</td>\n",
              "      <td>-0.086423</td>\n",
              "      <td>0.254475</td>\n",
              "      <td>0.183194</td>\n",
              "      <td>1.000000</td>\n",
              "    </tr>\n",
              "  </tbody>\n",
              "</table>\n",
              "</div>"
            ],
            "text/plain": [
              "                  price  bedrooms  ...  sqft_living15  sqft_lot15\n",
              "price          1.000000  0.308346  ...       0.585382    0.082457\n",
              "bedrooms       0.308346  1.000000  ...       0.391633    0.029233\n",
              "bathrooms      0.525140  0.515935  ...       0.568665    0.087191\n",
              "sqft_living    0.702046  0.576674  ...       0.756420    0.183285\n",
              "sqft_lot       0.089658  0.031699  ...       0.144620    0.718556\n",
              "floors         0.256793  0.175448  ...       0.279861   -0.011250\n",
              "waterfront     0.266332 -0.006583  ...       0.086469    0.030702\n",
              "view           0.397466  0.079433  ...       0.280404    0.072577\n",
              "condition      0.036397  0.028422  ...      -0.092854   -0.003424\n",
              "grade          0.667478  0.357003  ...       0.713208    0.119265\n",
              "sqft_above     0.605569  0.477619  ...       0.731870    0.194060\n",
              "sqft_basement  0.323849  0.303077  ...       0.200367    0.017260\n",
              "yr_built       0.053980  0.154276  ...       0.326298    0.070999\n",
              "yr_renovated   0.126503  0.018695  ...      -0.002841    0.007837\n",
              "zipcode       -0.053162 -0.152721  ...      -0.279033   -0.147257\n",
              "lat            0.306922 -0.008953  ...       0.048839   -0.086423\n",
              "long           0.021567  0.129474  ...       0.334592    0.254475\n",
              "sqft_living15  0.585382  0.391633  ...       1.000000    0.183194\n",
              "sqft_lot15     0.082457  0.029233  ...       0.183194    1.000000\n",
              "\n",
              "[19 rows x 19 columns]"
            ]
          },
          "metadata": {
            "tags": []
          },
          "execution_count": 24
        }
      ]
    },
    {
      "cell_type": "code",
      "metadata": {
        "id": "jkTH1Td_7y92",
        "colab_type": "code",
        "colab": {}
      },
      "source": [
        ""
      ],
      "execution_count": 24,
      "outputs": []
    },
    {
      "cell_type": "markdown",
      "metadata": {
        "id": "vTbdjSrhVIiT",
        "colab_type": "text"
      },
      "source": [
        "## 7. Implementing the Solution"
      ]
    },
    {
      "cell_type": "markdown",
      "metadata": {
        "id": "479W54d51YLa",
        "colab_type": "text"
      },
      "source": [
        "steps involved include:\n",
        "performing regression analysis by:\n",
        "\n",
        "\n",
        "1.   checking for multicolinearity\n",
        "2.   residual plots   and heteroskedacity testing\n",
        "\n"
      ]
    },
    {
      "cell_type": "markdown",
      "metadata": {
        "id": "jq-nSfjFaZ9c",
        "colab_type": "text"
      },
      "source": [
        "Checking for multicolinearity"
      ]
    },
    {
      "cell_type": "code",
      "metadata": {
        "id": "PJLZaRzJXJ3w",
        "colab_type": "code",
        "colab": {
          "base_uri": "https://localhost:8080/",
          "height": 621
        },
        "outputId": "c8c43e00-a28e-4196-ddac-8545b6f6e427"
      },
      "source": [
        "# removing the price column, we want to focus only on the independent variables\n",
        "# \n",
        "independent_only = house.drop(columns=['price'], axis=1)\n",
        "\n",
        "# displaying the correlations between the variables\n",
        "correlations = independent_only.corr()\n",
        "correlations\n"
      ],
      "execution_count": 25,
      "outputs": [
        {
          "output_type": "execute_result",
          "data": {
            "text/html": [
              "<div>\n",
              "<style scoped>\n",
              "    .dataframe tbody tr th:only-of-type {\n",
              "        vertical-align: middle;\n",
              "    }\n",
              "\n",
              "    .dataframe tbody tr th {\n",
              "        vertical-align: top;\n",
              "    }\n",
              "\n",
              "    .dataframe thead th {\n",
              "        text-align: right;\n",
              "    }\n",
              "</style>\n",
              "<table border=\"1\" class=\"dataframe\">\n",
              "  <thead>\n",
              "    <tr style=\"text-align: right;\">\n",
              "      <th></th>\n",
              "      <th>bedrooms</th>\n",
              "      <th>bathrooms</th>\n",
              "      <th>sqft_living</th>\n",
              "      <th>sqft_lot</th>\n",
              "      <th>floors</th>\n",
              "      <th>waterfront</th>\n",
              "      <th>view</th>\n",
              "      <th>condition</th>\n",
              "      <th>grade</th>\n",
              "      <th>sqft_above</th>\n",
              "      <th>sqft_basement</th>\n",
              "      <th>yr_built</th>\n",
              "      <th>yr_renovated</th>\n",
              "      <th>zipcode</th>\n",
              "      <th>lat</th>\n",
              "      <th>long</th>\n",
              "      <th>sqft_living15</th>\n",
              "      <th>sqft_lot15</th>\n",
              "    </tr>\n",
              "  </thead>\n",
              "  <tbody>\n",
              "    <tr>\n",
              "      <th>bedrooms</th>\n",
              "      <td>1.000000</td>\n",
              "      <td>0.515935</td>\n",
              "      <td>0.576674</td>\n",
              "      <td>0.031699</td>\n",
              "      <td>0.175448</td>\n",
              "      <td>-0.006583</td>\n",
              "      <td>0.079433</td>\n",
              "      <td>0.028422</td>\n",
              "      <td>0.357003</td>\n",
              "      <td>0.477619</td>\n",
              "      <td>0.303077</td>\n",
              "      <td>0.154276</td>\n",
              "      <td>0.018695</td>\n",
              "      <td>-0.152721</td>\n",
              "      <td>-0.008953</td>\n",
              "      <td>0.129474</td>\n",
              "      <td>0.391633</td>\n",
              "      <td>0.029233</td>\n",
              "    </tr>\n",
              "    <tr>\n",
              "      <th>bathrooms</th>\n",
              "      <td>0.515935</td>\n",
              "      <td>1.000000</td>\n",
              "      <td>0.754688</td>\n",
              "      <td>0.087750</td>\n",
              "      <td>0.500669</td>\n",
              "      <td>0.063747</td>\n",
              "      <td>0.187891</td>\n",
              "      <td>-0.124940</td>\n",
              "      <td>0.664990</td>\n",
              "      <td>0.685351</td>\n",
              "      <td>0.283814</td>\n",
              "      <td>0.505997</td>\n",
              "      <td>0.050879</td>\n",
              "      <td>-0.203831</td>\n",
              "      <td>0.024590</td>\n",
              "      <td>0.223047</td>\n",
              "      <td>0.568665</td>\n",
              "      <td>0.087191</td>\n",
              "    </tr>\n",
              "    <tr>\n",
              "      <th>sqft_living</th>\n",
              "      <td>0.576674</td>\n",
              "      <td>0.754688</td>\n",
              "      <td>1.000000</td>\n",
              "      <td>0.172830</td>\n",
              "      <td>0.353954</td>\n",
              "      <td>0.103820</td>\n",
              "      <td>0.284641</td>\n",
              "      <td>-0.058768</td>\n",
              "      <td>0.762719</td>\n",
              "      <td>0.876600</td>\n",
              "      <td>0.435054</td>\n",
              "      <td>0.318099</td>\n",
              "      <td>0.055314</td>\n",
              "      <td>-0.199435</td>\n",
              "      <td>0.052521</td>\n",
              "      <td>0.240221</td>\n",
              "      <td>0.756420</td>\n",
              "      <td>0.183285</td>\n",
              "    </tr>\n",
              "    <tr>\n",
              "      <th>sqft_lot</th>\n",
              "      <td>0.031699</td>\n",
              "      <td>0.087750</td>\n",
              "      <td>0.172830</td>\n",
              "      <td>1.000000</td>\n",
              "      <td>-0.005171</td>\n",
              "      <td>0.021601</td>\n",
              "      <td>0.074753</td>\n",
              "      <td>-0.008967</td>\n",
              "      <td>0.113644</td>\n",
              "      <td>0.183527</td>\n",
              "      <td>0.015271</td>\n",
              "      <td>0.053105</td>\n",
              "      <td>0.007677</td>\n",
              "      <td>-0.129611</td>\n",
              "      <td>-0.085680</td>\n",
              "      <td>0.229552</td>\n",
              "      <td>0.144620</td>\n",
              "      <td>0.718556</td>\n",
              "    </tr>\n",
              "    <tr>\n",
              "      <th>floors</th>\n",
              "      <td>0.175448</td>\n",
              "      <td>0.500669</td>\n",
              "      <td>0.353954</td>\n",
              "      <td>-0.005171</td>\n",
              "      <td>1.000000</td>\n",
              "      <td>0.023711</td>\n",
              "      <td>0.029325</td>\n",
              "      <td>-0.263779</td>\n",
              "      <td>0.458151</td>\n",
              "      <td>0.523874</td>\n",
              "      <td>-0.245673</td>\n",
              "      <td>0.489347</td>\n",
              "      <td>0.006156</td>\n",
              "      <td>-0.059025</td>\n",
              "      <td>0.049593</td>\n",
              "      <td>0.125343</td>\n",
              "      <td>0.279861</td>\n",
              "      <td>-0.011250</td>\n",
              "    </tr>\n",
              "    <tr>\n",
              "      <th>waterfront</th>\n",
              "      <td>-0.006583</td>\n",
              "      <td>0.063747</td>\n",
              "      <td>0.103820</td>\n",
              "      <td>0.021601</td>\n",
              "      <td>0.023711</td>\n",
              "      <td>1.000000</td>\n",
              "      <td>0.401993</td>\n",
              "      <td>0.016652</td>\n",
              "      <td>0.082785</td>\n",
              "      <td>0.072080</td>\n",
              "      <td>0.080585</td>\n",
              "      <td>-0.026159</td>\n",
              "      <td>0.092950</td>\n",
              "      <td>0.030277</td>\n",
              "      <td>-0.014272</td>\n",
              "      <td>-0.041904</td>\n",
              "      <td>0.086469</td>\n",
              "      <td>0.030702</td>\n",
              "    </tr>\n",
              "    <tr>\n",
              "      <th>view</th>\n",
              "      <td>0.079433</td>\n",
              "      <td>0.187891</td>\n",
              "      <td>0.284641</td>\n",
              "      <td>0.074753</td>\n",
              "      <td>0.029325</td>\n",
              "      <td>0.401993</td>\n",
              "      <td>1.000000</td>\n",
              "      <td>0.045836</td>\n",
              "      <td>0.251378</td>\n",
              "      <td>0.167659</td>\n",
              "      <td>0.276996</td>\n",
              "      <td>-0.053229</td>\n",
              "      <td>0.103208</td>\n",
              "      <td>0.084838</td>\n",
              "      <td>0.006049</td>\n",
              "      <td>-0.078560</td>\n",
              "      <td>0.280404</td>\n",
              "      <td>0.072577</td>\n",
              "    </tr>\n",
              "    <tr>\n",
              "      <th>condition</th>\n",
              "      <td>0.028422</td>\n",
              "      <td>-0.124940</td>\n",
              "      <td>-0.058768</td>\n",
              "      <td>-0.008967</td>\n",
              "      <td>-0.263779</td>\n",
              "      <td>0.016652</td>\n",
              "      <td>0.045836</td>\n",
              "      <td>1.000000</td>\n",
              "      <td>-0.144655</td>\n",
              "      <td>-0.158212</td>\n",
              "      <td>0.174071</td>\n",
              "      <td>-0.361347</td>\n",
              "      <td>-0.060862</td>\n",
              "      <td>0.002962</td>\n",
              "      <td>-0.014971</td>\n",
              "      <td>-0.106512</td>\n",
              "      <td>-0.092854</td>\n",
              "      <td>-0.003424</td>\n",
              "    </tr>\n",
              "    <tr>\n",
              "      <th>grade</th>\n",
              "      <td>0.357003</td>\n",
              "      <td>0.664990</td>\n",
              "      <td>0.762719</td>\n",
              "      <td>0.113644</td>\n",
              "      <td>0.458151</td>\n",
              "      <td>0.082785</td>\n",
              "      <td>0.251378</td>\n",
              "      <td>-0.144655</td>\n",
              "      <td>1.000000</td>\n",
              "      <td>0.755919</td>\n",
              "      <td>0.168443</td>\n",
              "      <td>0.446966</td>\n",
              "      <td>0.014372</td>\n",
              "      <td>-0.184795</td>\n",
              "      <td>0.114086</td>\n",
              "      <td>0.198347</td>\n",
              "      <td>0.713208</td>\n",
              "      <td>0.119265</td>\n",
              "    </tr>\n",
              "    <tr>\n",
              "      <th>sqft_above</th>\n",
              "      <td>0.477619</td>\n",
              "      <td>0.685351</td>\n",
              "      <td>0.876600</td>\n",
              "      <td>0.183527</td>\n",
              "      <td>0.523874</td>\n",
              "      <td>0.072080</td>\n",
              "      <td>0.167659</td>\n",
              "      <td>-0.158212</td>\n",
              "      <td>0.755919</td>\n",
              "      <td>1.000000</td>\n",
              "      <td>-0.051923</td>\n",
              "      <td>0.423922</td>\n",
              "      <td>0.023233</td>\n",
              "      <td>-0.261163</td>\n",
              "      <td>-0.000823</td>\n",
              "      <td>0.343791</td>\n",
              "      <td>0.731870</td>\n",
              "      <td>0.194060</td>\n",
              "    </tr>\n",
              "    <tr>\n",
              "      <th>sqft_basement</th>\n",
              "      <td>0.303077</td>\n",
              "      <td>0.283814</td>\n",
              "      <td>0.435054</td>\n",
              "      <td>0.015271</td>\n",
              "      <td>-0.245673</td>\n",
              "      <td>0.080585</td>\n",
              "      <td>0.276996</td>\n",
              "      <td>0.174071</td>\n",
              "      <td>0.168443</td>\n",
              "      <td>-0.051923</td>\n",
              "      <td>1.000000</td>\n",
              "      <td>-0.133062</td>\n",
              "      <td>0.071320</td>\n",
              "      <td>0.074781</td>\n",
              "      <td>0.110535</td>\n",
              "      <td>-0.144743</td>\n",
              "      <td>0.200367</td>\n",
              "      <td>0.017260</td>\n",
              "    </tr>\n",
              "    <tr>\n",
              "      <th>yr_built</th>\n",
              "      <td>0.154276</td>\n",
              "      <td>0.505997</td>\n",
              "      <td>0.318099</td>\n",
              "      <td>0.053105</td>\n",
              "      <td>0.489347</td>\n",
              "      <td>-0.026159</td>\n",
              "      <td>-0.053229</td>\n",
              "      <td>-0.361347</td>\n",
              "      <td>0.446966</td>\n",
              "      <td>0.423922</td>\n",
              "      <td>-0.133062</td>\n",
              "      <td>1.000000</td>\n",
              "      <td>-0.224729</td>\n",
              "      <td>-0.346808</td>\n",
              "      <td>-0.148099</td>\n",
              "      <td>0.409395</td>\n",
              "      <td>0.326298</td>\n",
              "      <td>0.070999</td>\n",
              "    </tr>\n",
              "    <tr>\n",
              "      <th>yr_renovated</th>\n",
              "      <td>0.018695</td>\n",
              "      <td>0.050879</td>\n",
              "      <td>0.055314</td>\n",
              "      <td>0.007677</td>\n",
              "      <td>0.006156</td>\n",
              "      <td>0.092950</td>\n",
              "      <td>0.103208</td>\n",
              "      <td>-0.060862</td>\n",
              "      <td>0.014372</td>\n",
              "      <td>0.023233</td>\n",
              "      <td>0.071320</td>\n",
              "      <td>-0.224729</td>\n",
              "      <td>1.000000</td>\n",
              "      <td>0.064388</td>\n",
              "      <td>0.029271</td>\n",
              "      <td>-0.068594</td>\n",
              "      <td>-0.002841</td>\n",
              "      <td>0.007837</td>\n",
              "    </tr>\n",
              "    <tr>\n",
              "      <th>zipcode</th>\n",
              "      <td>-0.152721</td>\n",
              "      <td>-0.203831</td>\n",
              "      <td>-0.199435</td>\n",
              "      <td>-0.129611</td>\n",
              "      <td>-0.059025</td>\n",
              "      <td>0.030277</td>\n",
              "      <td>0.084838</td>\n",
              "      <td>0.002962</td>\n",
              "      <td>-0.184795</td>\n",
              "      <td>-0.261163</td>\n",
              "      <td>0.074781</td>\n",
              "      <td>-0.346808</td>\n",
              "      <td>0.064388</td>\n",
              "      <td>1.000000</td>\n",
              "      <td>0.267064</td>\n",
              "      <td>-0.564069</td>\n",
              "      <td>-0.279033</td>\n",
              "      <td>-0.147257</td>\n",
              "    </tr>\n",
              "    <tr>\n",
              "      <th>lat</th>\n",
              "      <td>-0.008953</td>\n",
              "      <td>0.024590</td>\n",
              "      <td>0.052521</td>\n",
              "      <td>-0.085680</td>\n",
              "      <td>0.049593</td>\n",
              "      <td>-0.014272</td>\n",
              "      <td>0.006049</td>\n",
              "      <td>-0.014971</td>\n",
              "      <td>0.114086</td>\n",
              "      <td>-0.000823</td>\n",
              "      <td>0.110535</td>\n",
              "      <td>-0.148099</td>\n",
              "      <td>0.029271</td>\n",
              "      <td>0.267064</td>\n",
              "      <td>1.000000</td>\n",
              "      <td>-0.135545</td>\n",
              "      <td>0.048839</td>\n",
              "      <td>-0.086423</td>\n",
              "    </tr>\n",
              "    <tr>\n",
              "      <th>long</th>\n",
              "      <td>0.129474</td>\n",
              "      <td>0.223047</td>\n",
              "      <td>0.240221</td>\n",
              "      <td>0.229552</td>\n",
              "      <td>0.125343</td>\n",
              "      <td>-0.041904</td>\n",
              "      <td>-0.078560</td>\n",
              "      <td>-0.106512</td>\n",
              "      <td>0.198347</td>\n",
              "      <td>0.343791</td>\n",
              "      <td>-0.144743</td>\n",
              "      <td>0.409395</td>\n",
              "      <td>-0.068594</td>\n",
              "      <td>-0.564069</td>\n",
              "      <td>-0.135545</td>\n",
              "      <td>1.000000</td>\n",
              "      <td>0.334592</td>\n",
              "      <td>0.254475</td>\n",
              "    </tr>\n",
              "    <tr>\n",
              "      <th>sqft_living15</th>\n",
              "      <td>0.391633</td>\n",
              "      <td>0.568665</td>\n",
              "      <td>0.756420</td>\n",
              "      <td>0.144620</td>\n",
              "      <td>0.279861</td>\n",
              "      <td>0.086469</td>\n",
              "      <td>0.280404</td>\n",
              "      <td>-0.092854</td>\n",
              "      <td>0.713208</td>\n",
              "      <td>0.731870</td>\n",
              "      <td>0.200367</td>\n",
              "      <td>0.326298</td>\n",
              "      <td>-0.002841</td>\n",
              "      <td>-0.279033</td>\n",
              "      <td>0.048839</td>\n",
              "      <td>0.334592</td>\n",
              "      <td>1.000000</td>\n",
              "      <td>0.183194</td>\n",
              "    </tr>\n",
              "    <tr>\n",
              "      <th>sqft_lot15</th>\n",
              "      <td>0.029233</td>\n",
              "      <td>0.087191</td>\n",
              "      <td>0.183285</td>\n",
              "      <td>0.718556</td>\n",
              "      <td>-0.011250</td>\n",
              "      <td>0.030702</td>\n",
              "      <td>0.072577</td>\n",
              "      <td>-0.003424</td>\n",
              "      <td>0.119265</td>\n",
              "      <td>0.194060</td>\n",
              "      <td>0.017260</td>\n",
              "      <td>0.070999</td>\n",
              "      <td>0.007837</td>\n",
              "      <td>-0.147257</td>\n",
              "      <td>-0.086423</td>\n",
              "      <td>0.254475</td>\n",
              "      <td>0.183194</td>\n",
              "      <td>1.000000</td>\n",
              "    </tr>\n",
              "  </tbody>\n",
              "</table>\n",
              "</div>"
            ],
            "text/plain": [
              "               bedrooms  bathrooms  ...  sqft_living15  sqft_lot15\n",
              "bedrooms       1.000000   0.515935  ...       0.391633    0.029233\n",
              "bathrooms      0.515935   1.000000  ...       0.568665    0.087191\n",
              "sqft_living    0.576674   0.754688  ...       0.756420    0.183285\n",
              "sqft_lot       0.031699   0.087750  ...       0.144620    0.718556\n",
              "floors         0.175448   0.500669  ...       0.279861   -0.011250\n",
              "waterfront    -0.006583   0.063747  ...       0.086469    0.030702\n",
              "view           0.079433   0.187891  ...       0.280404    0.072577\n",
              "condition      0.028422  -0.124940  ...      -0.092854   -0.003424\n",
              "grade          0.357003   0.664990  ...       0.713208    0.119265\n",
              "sqft_above     0.477619   0.685351  ...       0.731870    0.194060\n",
              "sqft_basement  0.303077   0.283814  ...       0.200367    0.017260\n",
              "yr_built       0.154276   0.505997  ...       0.326298    0.070999\n",
              "yr_renovated   0.018695   0.050879  ...      -0.002841    0.007837\n",
              "zipcode       -0.152721  -0.203831  ...      -0.279033   -0.147257\n",
              "lat           -0.008953   0.024590  ...       0.048839   -0.086423\n",
              "long           0.129474   0.223047  ...       0.334592    0.254475\n",
              "sqft_living15  0.391633   0.568665  ...       1.000000    0.183194\n",
              "sqft_lot15     0.029233   0.087191  ...       0.183194    1.000000\n",
              "\n",
              "[18 rows x 18 columns]"
            ]
          },
          "metadata": {
            "tags": []
          },
          "execution_count": 25
        }
      ]
    },
    {
      "cell_type": "code",
      "metadata": {
        "id": "SYljEhw0cEmU",
        "colab_type": "code",
        "colab": {
          "base_uri": "https://localhost:8080/",
          "height": 621
        },
        "outputId": "0b68da74-3dff-4f5a-f6ad-e2d8c5e2a8e3"
      },
      "source": [
        "# using the correlations to get the VIF score for each variable\n",
        "pd.DataFrame(np.linalg.inv(correlations.values), index=correlations.index, columns=correlations.columns)\n",
        "\n",
        "# the sqft_living has a score of 1.814600e-12, sqft_above has a score of 1.475124e+13, sqft_basement has a score of 4.213458e+12.\n",
        "# these have a value greater than 5. "
      ],
      "execution_count": 26,
      "outputs": [
        {
          "output_type": "execute_result",
          "data": {
            "text/html": [
              "<div>\n",
              "<style scoped>\n",
              "    .dataframe tbody tr th:only-of-type {\n",
              "        vertical-align: middle;\n",
              "    }\n",
              "\n",
              "    .dataframe tbody tr th {\n",
              "        vertical-align: top;\n",
              "    }\n",
              "\n",
              "    .dataframe thead th {\n",
              "        text-align: right;\n",
              "    }\n",
              "</style>\n",
              "<table border=\"1\" class=\"dataframe\">\n",
              "  <thead>\n",
              "    <tr style=\"text-align: right;\">\n",
              "      <th></th>\n",
              "      <th>bedrooms</th>\n",
              "      <th>bathrooms</th>\n",
              "      <th>sqft_living</th>\n",
              "      <th>sqft_lot</th>\n",
              "      <th>floors</th>\n",
              "      <th>waterfront</th>\n",
              "      <th>view</th>\n",
              "      <th>condition</th>\n",
              "      <th>grade</th>\n",
              "      <th>sqft_above</th>\n",
              "      <th>sqft_basement</th>\n",
              "      <th>yr_built</th>\n",
              "      <th>yr_renovated</th>\n",
              "      <th>zipcode</th>\n",
              "      <th>lat</th>\n",
              "      <th>long</th>\n",
              "      <th>sqft_living15</th>\n",
              "      <th>sqft_lot15</th>\n",
              "    </tr>\n",
              "  </thead>\n",
              "  <tbody>\n",
              "    <tr>\n",
              "      <th>bedrooms</th>\n",
              "      <td>1.652159</td>\n",
              "      <td>-0.461426</td>\n",
              "      <td>-6.131806e-01</td>\n",
              "      <td>0.049327</td>\n",
              "      <td>0.049848</td>\n",
              "      <td>0.063078</td>\n",
              "      <td>0.114430</td>\n",
              "      <td>-0.050633</td>\n",
              "      <td>0.306941</td>\n",
              "      <td>-3.237657e-01</td>\n",
              "      <td>-1.881523e-01</td>\n",
              "      <td>0.134509</td>\n",
              "      <td>0.045800</td>\n",
              "      <td>0.080174</td>\n",
              "      <td>0.050839</td>\n",
              "      <td>0.017554</td>\n",
              "      <td>0.025284</td>\n",
              "      <td>0.085416</td>\n",
              "    </tr>\n",
              "    <tr>\n",
              "      <th>bathrooms</th>\n",
              "      <td>-0.461426</td>\n",
              "      <td>3.351248</td>\n",
              "      <td>-3.146032e+00</td>\n",
              "      <td>-0.024033</td>\n",
              "      <td>-0.675409</td>\n",
              "      <td>0.010097</td>\n",
              "      <td>-0.042387</td>\n",
              "      <td>-0.137265</td>\n",
              "      <td>-0.267927</td>\n",
              "      <td>1.566362e+00</td>\n",
              "      <td>4.385015e-01</td>\n",
              "      <td>-0.935745</td>\n",
              "      <td>-0.260436</td>\n",
              "      <td>0.041789</td>\n",
              "      <td>-0.041080</td>\n",
              "      <td>0.053741</td>\n",
              "      <td>0.092020</td>\n",
              "      <td>0.071444</td>\n",
              "    </tr>\n",
              "    <tr>\n",
              "      <th>sqft_living</th>\n",
              "      <td>-0.614125</td>\n",
              "      <td>-3.147527</td>\n",
              "      <td>1.814600e+13</td>\n",
              "      <td>-0.083836</td>\n",
              "      <td>2.725995</td>\n",
              "      <td>-0.075267</td>\n",
              "      <td>-0.010738</td>\n",
              "      <td>-0.174659</td>\n",
              "      <td>-1.942256</td>\n",
              "      <td>-1.636081e+13</td>\n",
              "      <td>-8.743992e+12</td>\n",
              "      <td>0.465511</td>\n",
              "      <td>0.157235</td>\n",
              "      <td>-0.351953</td>\n",
              "      <td>-0.055686</td>\n",
              "      <td>0.225522</td>\n",
              "      <td>-1.068731</td>\n",
              "      <td>-0.050464</td>\n",
              "    </tr>\n",
              "    <tr>\n",
              "      <th>sqft_lot</th>\n",
              "      <td>0.049327</td>\n",
              "      <td>-0.024033</td>\n",
              "      <td>-8.472318e-02</td>\n",
              "      <td>2.102526</td>\n",
              "      <td>0.045181</td>\n",
              "      <td>0.027369</td>\n",
              "      <td>-0.059109</td>\n",
              "      <td>0.030522</td>\n",
              "      <td>-0.053865</td>\n",
              "      <td>-1.229640e-01</td>\n",
              "      <td>-1.799981e-03</td>\n",
              "      <td>0.098734</td>\n",
              "      <td>0.021295</td>\n",
              "      <td>-0.002580</td>\n",
              "      <td>0.053339</td>\n",
              "      <td>-0.133206</td>\n",
              "      <td>0.163933</td>\n",
              "      <td>-1.459308</td>\n",
              "    </tr>\n",
              "    <tr>\n",
              "      <th>floors</th>\n",
              "      <td>0.049848</td>\n",
              "      <td>-0.675409</td>\n",
              "      <td>2.727895e+00</td>\n",
              "      <td>0.045181</td>\n",
              "      <td>2.011974</td>\n",
              "      <td>-0.005524</td>\n",
              "      <td>-0.040067</td>\n",
              "      <td>0.089832</td>\n",
              "      <td>-0.230827</td>\n",
              "      <td>-2.964235e+00</td>\n",
              "      <td>-6.995572e-01</td>\n",
              "      <td>-0.481324</td>\n",
              "      <td>-0.079986</td>\n",
              "      <td>-0.170816</td>\n",
              "      <td>-0.127521</td>\n",
              "      <td>0.164281</td>\n",
              "      <td>0.272632</td>\n",
              "      <td>0.072657</td>\n",
              "    </tr>\n",
              "    <tr>\n",
              "      <th>waterfront</th>\n",
              "      <td>0.063078</td>\n",
              "      <td>0.010097</td>\n",
              "      <td>-7.563028e-02</td>\n",
              "      <td>0.027369</td>\n",
              "      <td>-0.005524</td>\n",
              "      <td>1.203970</td>\n",
              "      <td>-0.492855</td>\n",
              "      <td>-0.012820</td>\n",
              "      <td>0.049272</td>\n",
              "      <td>-4.380875e-02</td>\n",
              "      <td>3.280588e-02</td>\n",
              "      <td>-0.021102</td>\n",
              "      <td>-0.065851</td>\n",
              "      <td>0.022562</td>\n",
              "      <td>0.009815</td>\n",
              "      <td>0.027241</td>\n",
              "      <td>0.054397</td>\n",
              "      <td>-0.018480</td>\n",
              "    </tr>\n",
              "    <tr>\n",
              "      <th>view</th>\n",
              "      <td>0.114430</td>\n",
              "      <td>-0.042387</td>\n",
              "      <td>-9.767467e-03</td>\n",
              "      <td>-0.059109</td>\n",
              "      <td>-0.040067</td>\n",
              "      <td>-0.492855</td>\n",
              "      <td>1.435320</td>\n",
              "      <td>-0.021126</td>\n",
              "      <td>-0.185270</td>\n",
              "      <td>4.816459e-02</td>\n",
              "      <td>-2.516918e-01</td>\n",
              "      <td>0.151685</td>\n",
              "      <td>-0.039119</td>\n",
              "      <td>-0.140639</td>\n",
              "      <td>0.118633</td>\n",
              "      <td>0.071934</td>\n",
              "      <td>-0.325388</td>\n",
              "      <td>-0.007469</td>\n",
              "    </tr>\n",
              "    <tr>\n",
              "      <th>condition</th>\n",
              "      <td>-0.050633</td>\n",
              "      <td>-0.137265</td>\n",
              "      <td>-1.749044e-01</td>\n",
              "      <td>0.030522</td>\n",
              "      <td>0.089832</td>\n",
              "      <td>-0.012820</td>\n",
              "      <td>-0.021126</td>\n",
              "      <td>1.249500</td>\n",
              "      <td>-0.054508</td>\n",
              "      <td>2.132228e-01</td>\n",
              "      <td>-1.323553e-02</td>\n",
              "      <td>0.561510</td>\n",
              "      <td>0.206913</td>\n",
              "      <td>0.161279</td>\n",
              "      <td>0.063727</td>\n",
              "      <td>-0.006876</td>\n",
              "      <td>0.075908</td>\n",
              "      <td>-0.028242</td>\n",
              "    </tr>\n",
              "    <tr>\n",
              "      <th>grade</th>\n",
              "      <td>0.306941</td>\n",
              "      <td>-0.267927</td>\n",
              "      <td>-1.945115e+00</td>\n",
              "      <td>-0.053865</td>\n",
              "      <td>-0.230827</td>\n",
              "      <td>0.049272</td>\n",
              "      <td>-0.185270</td>\n",
              "      <td>-0.054508</td>\n",
              "      <td>3.416981</td>\n",
              "      <td>1.441457e-01</td>\n",
              "      <td>4.510090e-01</td>\n",
              "      <td>-0.638907</td>\n",
              "      <td>-0.071472</td>\n",
              "      <td>0.083155</td>\n",
              "      <td>-0.330860</td>\n",
              "      <td>0.393716</td>\n",
              "      <td>-0.911600</td>\n",
              "      <td>0.071863</td>\n",
              "    </tr>\n",
              "    <tr>\n",
              "      <th>sqft_above</th>\n",
              "      <td>-0.321458</td>\n",
              "      <td>1.564793</td>\n",
              "      <td>-1.636081e+13</td>\n",
              "      <td>-0.123737</td>\n",
              "      <td>-2.962207</td>\n",
              "      <td>-0.044143</td>\n",
              "      <td>0.049025</td>\n",
              "      <td>0.212984</td>\n",
              "      <td>0.141509</td>\n",
              "      <td>1.475124e+13</td>\n",
              "      <td>7.883763e+12</td>\n",
              "      <td>0.100178</td>\n",
              "      <td>-0.142897</td>\n",
              "      <td>0.241689</td>\n",
              "      <td>0.231229</td>\n",
              "      <td>-0.545073</td>\n",
              "      <td>-0.572072</td>\n",
              "      <td>-0.130215</td>\n",
              "    </tr>\n",
              "    <tr>\n",
              "      <th>sqft_basement</th>\n",
              "      <td>-0.188443</td>\n",
              "      <td>0.437284</td>\n",
              "      <td>-8.743992e+12</td>\n",
              "      <td>-0.002185</td>\n",
              "      <td>-0.698367</td>\n",
              "      <td>0.032604</td>\n",
              "      <td>-0.251236</td>\n",
              "      <td>-0.013347</td>\n",
              "      <td>0.449572</td>\n",
              "      <td>7.883763e+12</td>\n",
              "      <td>4.213458e+12</td>\n",
              "      <td>0.020931</td>\n",
              "      <td>-0.089828</td>\n",
              "      <td>0.088317</td>\n",
              "      <td>-0.054353</td>\n",
              "      <td>0.039078</td>\n",
              "      <td>0.043883</td>\n",
              "      <td>-0.035249</td>\n",
              "    </tr>\n",
              "    <tr>\n",
              "      <th>yr_built</th>\n",
              "      <td>0.134509</td>\n",
              "      <td>-0.935745</td>\n",
              "      <td>4.630533e-01</td>\n",
              "      <td>0.098734</td>\n",
              "      <td>-0.481324</td>\n",
              "      <td>-0.021102</td>\n",
              "      <td>0.151685</td>\n",
              "      <td>0.561510</td>\n",
              "      <td>-0.638907</td>\n",
              "      <td>1.023946e-01</td>\n",
              "      <td>2.211501e-02</td>\n",
              "      <td>2.430222</td>\n",
              "      <td>0.533724</td>\n",
              "      <td>0.256800</td>\n",
              "      <td>0.310422</td>\n",
              "      <td>-0.505495</td>\n",
              "      <td>0.077695</td>\n",
              "      <td>-0.033746</td>\n",
              "    </tr>\n",
              "    <tr>\n",
              "      <th>yr_renovated</th>\n",
              "      <td>0.045800</td>\n",
              "      <td>-0.260436</td>\n",
              "      <td>1.565138e-01</td>\n",
              "      <td>0.021295</td>\n",
              "      <td>-0.079986</td>\n",
              "      <td>-0.065851</td>\n",
              "      <td>-0.039119</td>\n",
              "      <td>0.206913</td>\n",
              "      <td>-0.071472</td>\n",
              "      <td>-1.422476e-01</td>\n",
              "      <td>-8.948058e-02</td>\n",
              "      <td>0.533724</td>\n",
              "      <td>1.150499</td>\n",
              "      <td>0.036806</td>\n",
              "      <td>0.046146</td>\n",
              "      <td>-0.054102</td>\n",
              "      <td>0.099266</td>\n",
              "      <td>-0.022195</td>\n",
              "    </tr>\n",
              "    <tr>\n",
              "      <th>zipcode</th>\n",
              "      <td>0.080174</td>\n",
              "      <td>0.041789</td>\n",
              "      <td>-3.521970e-01</td>\n",
              "      <td>-0.002580</td>\n",
              "      <td>-0.170816</td>\n",
              "      <td>0.022562</td>\n",
              "      <td>-0.140639</td>\n",
              "      <td>0.161279</td>\n",
              "      <td>0.083155</td>\n",
              "      <td>2.419084e-01</td>\n",
              "      <td>8.843427e-02</td>\n",
              "      <td>0.256800</td>\n",
              "      <td>0.036806</td>\n",
              "      <td>1.662141</td>\n",
              "      <td>-0.308109</td>\n",
              "      <td>0.733911</td>\n",
              "      <td>0.210240</td>\n",
              "      <td>-0.015488</td>\n",
              "    </tr>\n",
              "    <tr>\n",
              "      <th>lat</th>\n",
              "      <td>0.050839</td>\n",
              "      <td>-0.041080</td>\n",
              "      <td>-5.529099e-02</td>\n",
              "      <td>0.053339</td>\n",
              "      <td>-0.127521</td>\n",
              "      <td>0.009815</td>\n",
              "      <td>0.118633</td>\n",
              "      <td>0.063727</td>\n",
              "      <td>-0.330860</td>\n",
              "      <td>2.308731e-01</td>\n",
              "      <td>-5.454309e-02</td>\n",
              "      <td>0.310422</td>\n",
              "      <td>0.046146</td>\n",
              "      <td>-0.308109</td>\n",
              "      <td>1.180645</td>\n",
              "      <td>-0.100816</td>\n",
              "      <td>-0.094792</td>\n",
              "      <td>0.036656</td>\n",
              "    </tr>\n",
              "    <tr>\n",
              "      <th>long</th>\n",
              "      <td>0.017554</td>\n",
              "      <td>0.053741</td>\n",
              "      <td>2.262928e-01</td>\n",
              "      <td>-0.133206</td>\n",
              "      <td>0.164281</td>\n",
              "      <td>0.027241</td>\n",
              "      <td>0.071934</td>\n",
              "      <td>-0.006876</td>\n",
              "      <td>0.393716</td>\n",
              "      <td>-5.457676e-01</td>\n",
              "      <td>3.870673e-02</td>\n",
              "      <td>-0.505495</td>\n",
              "      <td>-0.054102</td>\n",
              "      <td>0.733911</td>\n",
              "      <td>-0.100816</td>\n",
              "      <td>1.825664</td>\n",
              "      <td>-0.354493</td>\n",
              "      <td>-0.160875</td>\n",
              "    </tr>\n",
              "    <tr>\n",
              "      <th>sqft_living15</th>\n",
              "      <td>0.025284</td>\n",
              "      <td>0.092020</td>\n",
              "      <td>-1.071943e+00</td>\n",
              "      <td>0.163933</td>\n",
              "      <td>0.272632</td>\n",
              "      <td>0.054397</td>\n",
              "      <td>-0.325388</td>\n",
              "      <td>0.075908</td>\n",
              "      <td>-0.911600</td>\n",
              "      <td>-5.691756e-01</td>\n",
              "      <td>4.543106e-02</td>\n",
              "      <td>0.077695</td>\n",
              "      <td>0.099266</td>\n",
              "      <td>0.210240</td>\n",
              "      <td>-0.094792</td>\n",
              "      <td>-0.354493</td>\n",
              "      <td>2.979647</td>\n",
              "      <td>-0.125593</td>\n",
              "    </tr>\n",
              "    <tr>\n",
              "      <th>sqft_lot15</th>\n",
              "      <td>0.085416</td>\n",
              "      <td>0.071444</td>\n",
              "      <td>-4.957563e-02</td>\n",
              "      <td>-1.459308</td>\n",
              "      <td>0.072657</td>\n",
              "      <td>-0.018480</td>\n",
              "      <td>-0.007469</td>\n",
              "      <td>-0.028242</td>\n",
              "      <td>0.071863</td>\n",
              "      <td>-1.310157e-01</td>\n",
              "      <td>-3.567730e-02</td>\n",
              "      <td>-0.033746</td>\n",
              "      <td>-0.022195</td>\n",
              "      <td>-0.015488</td>\n",
              "      <td>0.036656</td>\n",
              "      <td>-0.160875</td>\n",
              "      <td>-0.125593</td>\n",
              "      <td>2.135659</td>\n",
              "    </tr>\n",
              "  </tbody>\n",
              "</table>\n",
              "</div>"
            ],
            "text/plain": [
              "               bedrooms  bathrooms  ...  sqft_living15  sqft_lot15\n",
              "bedrooms       1.652159  -0.461426  ...       0.025284    0.085416\n",
              "bathrooms     -0.461426   3.351248  ...       0.092020    0.071444\n",
              "sqft_living   -0.614125  -3.147527  ...      -1.068731   -0.050464\n",
              "sqft_lot       0.049327  -0.024033  ...       0.163933   -1.459308\n",
              "floors         0.049848  -0.675409  ...       0.272632    0.072657\n",
              "waterfront     0.063078   0.010097  ...       0.054397   -0.018480\n",
              "view           0.114430  -0.042387  ...      -0.325388   -0.007469\n",
              "condition     -0.050633  -0.137265  ...       0.075908   -0.028242\n",
              "grade          0.306941  -0.267927  ...      -0.911600    0.071863\n",
              "sqft_above    -0.321458   1.564793  ...      -0.572072   -0.130215\n",
              "sqft_basement -0.188443   0.437284  ...       0.043883   -0.035249\n",
              "yr_built       0.134509  -0.935745  ...       0.077695   -0.033746\n",
              "yr_renovated   0.045800  -0.260436  ...       0.099266   -0.022195\n",
              "zipcode        0.080174   0.041789  ...       0.210240   -0.015488\n",
              "lat            0.050839  -0.041080  ...      -0.094792    0.036656\n",
              "long           0.017554   0.053741  ...      -0.354493   -0.160875\n",
              "sqft_living15  0.025284   0.092020  ...       2.979647   -0.125593\n",
              "sqft_lot15     0.085416   0.071444  ...      -0.125593    2.135659\n",
              "\n",
              "[18 rows x 18 columns]"
            ]
          },
          "metadata": {
            "tags": []
          },
          "execution_count": 26
        }
      ]
    },
    {
      "cell_type": "code",
      "metadata": {
        "id": "gM6-W6oHl11u",
        "colab_type": "code",
        "colab": {
          "base_uri": "https://localhost:8080/",
          "height": 529
        },
        "outputId": "94bde2fa-757e-4f75-ea23-a41b919072ac"
      },
      "source": [
        "# checking the correlations less the values with high VIF scores\n",
        "revised = independent_only.drop(columns=['sqft_living', 'sqft_above', 'sqft_basement'])\n",
        "correlations = revised.corr()\n",
        "pd.DataFrame(np.linalg.inv(correlations.values), index = correlations.index, columns= correlations.columns)\n",
        "\n",
        "# all the scores dropped, but the batrooms score dropped significantly indicating that it was highly correlated with the dropped variables"
      ],
      "execution_count": 27,
      "outputs": [
        {
          "output_type": "execute_result",
          "data": {
            "text/html": [
              "<div>\n",
              "<style scoped>\n",
              "    .dataframe tbody tr th:only-of-type {\n",
              "        vertical-align: middle;\n",
              "    }\n",
              "\n",
              "    .dataframe tbody tr th {\n",
              "        vertical-align: top;\n",
              "    }\n",
              "\n",
              "    .dataframe thead th {\n",
              "        text-align: right;\n",
              "    }\n",
              "</style>\n",
              "<table border=\"1\" class=\"dataframe\">\n",
              "  <thead>\n",
              "    <tr style=\"text-align: right;\">\n",
              "      <th></th>\n",
              "      <th>bedrooms</th>\n",
              "      <th>bathrooms</th>\n",
              "      <th>sqft_lot</th>\n",
              "      <th>floors</th>\n",
              "      <th>waterfront</th>\n",
              "      <th>view</th>\n",
              "      <th>condition</th>\n",
              "      <th>grade</th>\n",
              "      <th>yr_built</th>\n",
              "      <th>yr_renovated</th>\n",
              "      <th>zipcode</th>\n",
              "      <th>lat</th>\n",
              "      <th>long</th>\n",
              "      <th>sqft_living15</th>\n",
              "      <th>sqft_lot15</th>\n",
              "    </tr>\n",
              "  </thead>\n",
              "  <tbody>\n",
              "    <tr>\n",
              "      <th>bedrooms</th>\n",
              "      <td>1.459639</td>\n",
              "      <td>-0.797621</td>\n",
              "      <td>0.015625</td>\n",
              "      <td>0.072855</td>\n",
              "      <td>0.047175</td>\n",
              "      <td>0.081416</td>\n",
              "      <td>-0.057630</td>\n",
              "      <td>0.013440</td>\n",
              "      <td>0.242510</td>\n",
              "      <td>0.043538</td>\n",
              "      <td>0.057631</td>\n",
              "      <td>0.063493</td>\n",
              "      <td>-0.007161</td>\n",
              "      <td>-0.255790</td>\n",
              "      <td>0.052407</td>\n",
              "    </tr>\n",
              "    <tr>\n",
              "      <th>bathrooms</th>\n",
              "      <td>-0.797621</td>\n",
              "      <td>2.695228</td>\n",
              "      <td>-0.070430</td>\n",
              "      <td>-0.470760</td>\n",
              "      <td>-0.006948</td>\n",
              "      <td>-0.151196</td>\n",
              "      <td>-0.173065</td>\n",
              "      <td>-0.706067</td>\n",
              "      <td>-0.754958</td>\n",
              "      <td>-0.266856</td>\n",
              "      <td>-0.004826</td>\n",
              "      <td>-0.052337</td>\n",
              "      <td>0.072536</td>\n",
              "      <td>-0.329150</td>\n",
              "      <td>0.020730</td>\n",
              "    </tr>\n",
              "    <tr>\n",
              "      <th>sqft_lot</th>\n",
              "      <td>0.015625</td>\n",
              "      <td>-0.070430</td>\n",
              "      <td>2.094376</td>\n",
              "      <td>0.019485</td>\n",
              "      <td>0.022647</td>\n",
              "      <td>-0.055643</td>\n",
              "      <td>0.033559</td>\n",
              "      <td>-0.118689</td>\n",
              "      <td>0.119053</td>\n",
              "      <td>0.021345</td>\n",
              "      <td>-0.005216</td>\n",
              "      <td>0.061582</td>\n",
              "      <td>-0.148729</td>\n",
              "      <td>0.102139</td>\n",
              "      <td>-1.466339</td>\n",
              "    </tr>\n",
              "    <tr>\n",
              "      <th>floors</th>\n",
              "      <td>0.072855</td>\n",
              "      <td>-0.470760</td>\n",
              "      <td>0.019485</td>\n",
              "      <td>1.616759</td>\n",
              "      <td>-0.029218</td>\n",
              "      <td>0.085952</td>\n",
              "      <td>0.146938</td>\n",
              "      <td>-0.373277</td>\n",
              "      <td>-0.475583</td>\n",
              "      <td>-0.073820</td>\n",
              "      <td>-0.150826</td>\n",
              "      <td>-0.049442</td>\n",
              "      <td>0.019401</td>\n",
              "      <td>0.139986</td>\n",
              "      <td>0.060065</td>\n",
              "    </tr>\n",
              "    <tr>\n",
              "      <th>waterfront</th>\n",
              "      <td>0.047175</td>\n",
              "      <td>-0.006948</td>\n",
              "      <td>0.022647</td>\n",
              "      <td>-0.029218</td>\n",
              "      <td>1.200987</td>\n",
              "      <td>-0.487621</td>\n",
              "      <td>-0.009729</td>\n",
              "      <td>0.013451</td>\n",
              "      <td>-0.010965</td>\n",
              "      <td>-0.065653</td>\n",
              "      <td>0.021828</td>\n",
              "      <td>0.016050</td>\n",
              "      <td>0.015559</td>\n",
              "      <td>0.020338</td>\n",
              "      <td>-0.022285</td>\n",
              "    </tr>\n",
              "    <tr>\n",
              "      <th>view</th>\n",
              "      <td>0.081416</td>\n",
              "      <td>-0.151196</td>\n",
              "      <td>-0.055643</td>\n",
              "      <td>0.085952</td>\n",
              "      <td>-0.487621</td>\n",
              "      <td>1.391689</td>\n",
              "      <td>-0.039828</td>\n",
              "      <td>-0.180383</td>\n",
              "      <td>0.164405</td>\n",
              "      <td>-0.041340</td>\n",
              "      <td>-0.149884</td>\n",
              "      <td>0.096047</td>\n",
              "      <td>0.113678</td>\n",
              "      <td>-0.321881</td>\n",
              "      <td>-0.007985</td>\n",
              "    </tr>\n",
              "    <tr>\n",
              "      <th>condition</th>\n",
              "      <td>-0.057630</td>\n",
              "      <td>-0.173065</td>\n",
              "      <td>0.033559</td>\n",
              "      <td>0.146938</td>\n",
              "      <td>-0.009729</td>\n",
              "      <td>-0.039828</td>\n",
              "      <td>1.241178</td>\n",
              "      <td>-0.039722</td>\n",
              "      <td>0.562762</td>\n",
              "      <td>0.205986</td>\n",
              "      <td>0.157980</td>\n",
              "      <td>0.052775</td>\n",
              "      <td>0.013422</td>\n",
              "      <td>0.089528</td>\n",
              "      <td>-0.027071</td>\n",
              "    </tr>\n",
              "    <tr>\n",
              "      <th>grade</th>\n",
              "      <td>0.013440</td>\n",
              "      <td>-0.706067</td>\n",
              "      <td>-0.118689</td>\n",
              "      <td>-0.373277</td>\n",
              "      <td>0.013451</td>\n",
              "      <td>-0.180383</td>\n",
              "      <td>-0.039722</td>\n",
              "      <td>2.889233</td>\n",
              "      <td>-0.465822</td>\n",
              "      <td>-0.072253</td>\n",
              "      <td>0.056611</td>\n",
              "      <td>-0.275567</td>\n",
              "      <td>0.289168</td>\n",
              "      <td>-1.415296</td>\n",
              "      <td>0.014060</td>\n",
              "    </tr>\n",
              "    <tr>\n",
              "      <th>yr_built</th>\n",
              "      <td>0.242510</td>\n",
              "      <td>-0.754958</td>\n",
              "      <td>0.119053</td>\n",
              "      <td>-0.475583</td>\n",
              "      <td>-0.010965</td>\n",
              "      <td>0.164405</td>\n",
              "      <td>0.562762</td>\n",
              "      <td>-0.465822</td>\n",
              "      <td>2.368748</td>\n",
              "      <td>0.534713</td>\n",
              "      <td>0.268625</td>\n",
              "      <td>0.299542</td>\n",
              "      <td>-0.484607</td>\n",
              "      <td>0.243273</td>\n",
              "      <td>-0.014442</td>\n",
              "    </tr>\n",
              "    <tr>\n",
              "      <th>yr_renovated</th>\n",
              "      <td>0.043538</td>\n",
              "      <td>-0.266856</td>\n",
              "      <td>0.021345</td>\n",
              "      <td>-0.073820</td>\n",
              "      <td>-0.065653</td>\n",
              "      <td>-0.041340</td>\n",
              "      <td>0.205986</td>\n",
              "      <td>-0.072253</td>\n",
              "      <td>0.534713</td>\n",
              "      <td>1.150383</td>\n",
              "      <td>0.036282</td>\n",
              "      <td>0.045099</td>\n",
              "      <td>-0.052172</td>\n",
              "      <td>0.098462</td>\n",
              "      <td>-0.022335</td>\n",
              "    </tr>\n",
              "    <tr>\n",
              "      <th>zipcode</th>\n",
              "      <td>0.057631</td>\n",
              "      <td>-0.004826</td>\n",
              "      <td>-0.005216</td>\n",
              "      <td>-0.150826</td>\n",
              "      <td>0.021828</td>\n",
              "      <td>-0.149884</td>\n",
              "      <td>0.157980</td>\n",
              "      <td>0.056611</td>\n",
              "      <td>0.268625</td>\n",
              "      <td>0.036282</td>\n",
              "      <td>1.658739</td>\n",
              "      <td>-0.310135</td>\n",
              "      <td>0.737532</td>\n",
              "      <td>0.184653</td>\n",
              "      <td>-0.018624</td>\n",
              "    </tr>\n",
              "    <tr>\n",
              "      <th>lat</th>\n",
              "      <td>0.063493</td>\n",
              "      <td>-0.052337</td>\n",
              "      <td>0.061582</td>\n",
              "      <td>-0.049442</td>\n",
              "      <td>0.016050</td>\n",
              "      <td>0.096047</td>\n",
              "      <td>0.052775</td>\n",
              "      <td>-0.275567</td>\n",
              "      <td>0.299542</td>\n",
              "      <td>0.045099</td>\n",
              "      <td>-0.310135</td>\n",
              "      <td>1.163673</td>\n",
              "      <td>-0.069212</td>\n",
              "      <td>-0.042606</td>\n",
              "      <td>0.042179</td>\n",
              "    </tr>\n",
              "    <tr>\n",
              "      <th>long</th>\n",
              "      <td>-0.007161</td>\n",
              "      <td>0.072536</td>\n",
              "      <td>-0.148729</td>\n",
              "      <td>0.019401</td>\n",
              "      <td>0.015559</td>\n",
              "      <td>0.113678</td>\n",
              "      <td>0.013422</td>\n",
              "      <td>0.289168</td>\n",
              "      <td>-0.484607</td>\n",
              "      <td>-0.052172</td>\n",
              "      <td>0.737532</td>\n",
              "      <td>-0.069212</td>\n",
              "      <td>1.766805</td>\n",
              "      <td>-0.453193</td>\n",
              "      <td>-0.171342</td>\n",
              "    </tr>\n",
              "    <tr>\n",
              "      <th>sqft_living15</th>\n",
              "      <td>-0.255790</td>\n",
              "      <td>-0.329150</td>\n",
              "      <td>0.102139</td>\n",
              "      <td>0.139986</td>\n",
              "      <td>0.020338</td>\n",
              "      <td>-0.321881</td>\n",
              "      <td>0.089528</td>\n",
              "      <td>-1.415296</td>\n",
              "      <td>0.243273</td>\n",
              "      <td>0.098462</td>\n",
              "      <td>0.184653</td>\n",
              "      <td>-0.042606</td>\n",
              "      <td>-0.453193</td>\n",
              "      <td>2.498875</td>\n",
              "      <td>-0.180790</td>\n",
              "    </tr>\n",
              "    <tr>\n",
              "      <th>sqft_lot15</th>\n",
              "      <td>0.052407</td>\n",
              "      <td>0.020730</td>\n",
              "      <td>-1.466339</td>\n",
              "      <td>0.060065</td>\n",
              "      <td>-0.022285</td>\n",
              "      <td>-0.007985</td>\n",
              "      <td>-0.027071</td>\n",
              "      <td>0.014060</td>\n",
              "      <td>-0.014442</td>\n",
              "      <td>-0.022335</td>\n",
              "      <td>-0.018624</td>\n",
              "      <td>0.042179</td>\n",
              "      <td>-0.171342</td>\n",
              "      <td>-0.180790</td>\n",
              "      <td>2.129302</td>\n",
              "    </tr>\n",
              "  </tbody>\n",
              "</table>\n",
              "</div>"
            ],
            "text/plain": [
              "               bedrooms  bathrooms  ...  sqft_living15  sqft_lot15\n",
              "bedrooms       1.459639  -0.797621  ...      -0.255790    0.052407\n",
              "bathrooms     -0.797621   2.695228  ...      -0.329150    0.020730\n",
              "sqft_lot       0.015625  -0.070430  ...       0.102139   -1.466339\n",
              "floors         0.072855  -0.470760  ...       0.139986    0.060065\n",
              "waterfront     0.047175  -0.006948  ...       0.020338   -0.022285\n",
              "view           0.081416  -0.151196  ...      -0.321881   -0.007985\n",
              "condition     -0.057630  -0.173065  ...       0.089528   -0.027071\n",
              "grade          0.013440  -0.706067  ...      -1.415296    0.014060\n",
              "yr_built       0.242510  -0.754958  ...       0.243273   -0.014442\n",
              "yr_renovated   0.043538  -0.266856  ...       0.098462   -0.022335\n",
              "zipcode        0.057631  -0.004826  ...       0.184653   -0.018624\n",
              "lat            0.063493  -0.052337  ...      -0.042606    0.042179\n",
              "long          -0.007161   0.072536  ...      -0.453193   -0.171342\n",
              "sqft_living15 -0.255790  -0.329150  ...       2.498875   -0.180790\n",
              "sqft_lot15     0.052407   0.020730  ...      -0.180790    2.129302\n",
              "\n",
              "[15 rows x 15 columns]"
            ]
          },
          "metadata": {
            "tags": []
          },
          "execution_count": 27
        }
      ]
    },
    {
      "cell_type": "markdown",
      "metadata": {
        "id": "xD1hDqY6Q4Q0",
        "colab_type": "text"
      },
      "source": [
        "Residual Plot and Heteroscedacity"
      ]
    },
    {
      "cell_type": "code",
      "metadata": {
        "id": "vPS_Z7naQ2qy",
        "colab_type": "code",
        "colab": {
          "base_uri": "https://localhost:8080/",
          "height": 35
        },
        "outputId": "3bead956-514e-4352-8142-a369076bbae0"
      },
      "source": [
        "# Creating a model based on the revised set of independent variables\n",
        "from sklearn import metrics\n",
        "from sklearn.model_selection import train_test_split\n",
        "from sklearn.linear_model import LinearRegression\n",
        "\n",
        "X = revised.values\n",
        "\n",
        "y = house['price'].values\n",
        "\n",
        "X_train, X_test, y_train, y_test = train_test_split(X, y, test_size= .2, random_state=0)\n",
        "\n",
        "regressor = LinearRegression()\n",
        "regressor.fit(X_train, y_train)\n",
        "\n",
        "# this is our prediction for the price based on our model\n",
        "price_predict = regressor.predict(X_test)\n",
        "\n",
        "\n",
        "# we now create our plot by subtracting the test from the predicted \n",
        "residuals = np.subtract(y_test, price_predict)\n",
        "\n",
        "# describing our residuals\n",
        "pd.DataFrame(residuals).describe()\n",
        "residuals.mean()\n",
        "\n"
      ],
      "execution_count": 28,
      "outputs": [
        {
          "output_type": "execute_result",
          "data": {
            "text/plain": [
              "1473.9489623111924"
            ]
          },
          "metadata": {
            "tags": []
          },
          "execution_count": 28
        }
      ]
    },
    {
      "cell_type": "code",
      "metadata": {
        "id": "3cESndphIA2Q",
        "colab_type": "code",
        "colab": {
          "base_uri": "https://localhost:8080/",
          "height": 290
        },
        "outputId": "28e6437b-a4d8-4afa-e091-2c6ce2bb1763"
      },
      "source": [
        "# showing the residual plot\n",
        "plt.scatter(price_predict, residuals, color='black')\n",
        "plt.ylabel('residual')\n",
        "plt.xlabel('fitted values')\n",
        "plt.axhline(y= residuals.mean(), color='red', linewidth=1)\n",
        "plt.show()\n",
        "\n",
        "# our residuals are centered around the mean that is close to zero and there are no glaringly obvious patterns"
      ],
      "execution_count": 29,
      "outputs": [
        {
          "output_type": "display_data",
          "data": {
            "image/png": "[encoded data removed]",
            "text/plain": [
              "<Figure size 432x288 with 1 Axes>"
            ]
          },
          "metadata": {
            "tags": [],
            "needs_background": "light"
          }
        }
      ]
    },
    {
      "cell_type": "code",
      "metadata": {
        "id": "inkU-HpqJAgL",
        "colab_type": "code",
        "colab": {
          "base_uri": "https://localhost:8080/",
          "height": 52
        },
        "outputId": "62b5d572-7e87-4bf3-aa1f-fabecdaa9454"
      },
      "source": [
        "# performing heteroskedacity test\n",
        "import scipy as sp\n",
        "test_results, p_value = sp.stats.bartlett(price_predict, residuals)\n",
        "\n",
        "# To interpret the results we must also compute a critical value of the chi squared distribution\n",
        "degree_of_freedom = len(price_predict)-1\n",
        "probability = 1 - p_value\n",
        "\n",
        "critical_value = sp.stats.chi2.ppf(probability, degree_of_freedom)\n",
        "print(critical_value)\n",
        "\n",
        "# If the test_result is greater than the critical value, then we reject our null\n",
        "# hypothesis. This would mean that there are patterns to the variance of the data\n",
        "\n",
        "# Otherwise, we can identify no patterns, and we accept the null hypothesis that \n",
        "# the variance is homogeneous across our data\n",
        "\n",
        "if ( test_results > critical_value):\n",
        "  print('the variances are unequal, and the model should be reassessed')\n",
        "else:\n",
        "  print('the variances are homogeneous!')"
      ],
      "execution_count": 30,
      "outputs": [
        {
          "output_type": "stream",
          "text": [
            "inf\n",
            "the variances are homogeneous!\n"
          ],
          "name": "stdout"
        }
      ]
    },
    {
      "cell_type": "markdown",
      "metadata": {
        "id": "AzsBjQxySpsk",
        "colab_type": "text"
      },
      "source": [
        "Ridge Regression"
      ]
    },
    {
      "cell_type": "code",
      "metadata": {
        "id": "hod5qEguSonY",
        "colab_type": "code",
        "colab": {}
      },
      "source": [
        "# loading libraries\n",
        "from sklearn.linear_model import Ridge\n",
        "from sklearn.model_selection import GridSearchCV\n",
        "from sklearn.metrics import mean_squared_error"
      ],
      "execution_count": 31,
      "outputs": []
    },
    {
      "cell_type": "code",
      "metadata": {
        "id": "ueIo2P4JWb-c",
        "colab_type": "code",
        "colab": {
          "base_uri": "https://localhost:8080/",
          "height": 35
        },
        "outputId": "a0e0fddf-9860-45ea-8a77-9ada60cdfbca"
      },
      "source": [
        "# We can also use MSE - Mean squared error\n",
        "print('Mean Squared Error:', metrics.mean_squared_error(y_test, price_predict)) \n",
        "\n",
        "# The output  value of 42923342713.65 will be our indicator to determine if the regularized ridge regression model is superior or not."
      ],
      "execution_count": 32,
      "outputs": [
        {
          "output_type": "stream",
          "text": [
            "Mean Squared Error: 42923342713.656395\n"
          ],
          "name": "stdout"
        }
      ]
    },
    {
      "cell_type": "code",
      "metadata": {
        "id": "ErAK8UQ4gs8t",
        "colab_type": "code",
        "colab": {}
      },
      "source": [
        "# In the code below, we first create our ridge model and indicate normalization in order to get better estimates.\n",
        "ridge = Ridge(normalize=True)\n",
        "\n",
        "# Next we setup the grid that we will use.\n",
        "\n",
        "search = GridSearchCV(estimator=ridge,param_grid={'alpha':np.logspace(-5,2,8)},scoring='neg_mean_squared_error',n_jobs=1,refit=True,cv=10)"
      ],
      "execution_count": 33,
      "outputs": []
    },
    {
      "cell_type": "code",
      "metadata": {
        "id": "5GiIfWkkhUTf",
        "colab_type": "code",
        "colab": {
          "base_uri": "https://localhost:8080/",
          "height": 52
        },
        "outputId": "bb35037b-5758-40c6-fdd1-626b8f1bb5a2"
      },
      "source": [
        "# We now use the .fit function to run the model and then use the .best_params_ and\n",
        "#  .best_scores_ function to determine the models strength. \n",
        "# \n",
        "search.fit(X,y)\n",
        "print(search.best_params_)\n",
        "\n",
        "abs(search.best_score_) \n",
        "\n",
        "# The best_params_ tells us what to set alpha too which in this case is 0.01. \n",
        "# The best_score_ tells us what the best possible mean squared error is. \n",
        "# In this case, the value of 4589680382.14799 is worse than what the baseline model was. "
      ],
      "execution_count": 34,
      "outputs": [
        {
          "output_type": "stream",
          "text": [
            "{'alpha': 0.01}\n"
          ],
          "name": "stdout"
        },
        {
          "output_type": "execute_result",
          "data": {
            "text/plain": [
              "45879680382.14799"
            ]
          },
          "metadata": {
            "tags": []
          },
          "execution_count": 34
        }
      ]
    },
    {
      "cell_type": "code",
      "metadata": {
        "id": "9nIwzNUim15h",
        "colab_type": "code",
        "colab": {
          "base_uri": "https://localhost:8080/",
          "height": 35
        },
        "outputId": "6c84cc77-fd62-4098-9071-b5c5a0383166"
      },
      "source": [
        "# We can confirm this by fitting our model with the ridge information and finding the mean squared error below\n",
        "#\n",
        "ridge = Ridge(normalize=True,alpha=0.01)\n",
        "ridge.fit(X,y)\n",
        "second_model = (mean_squared_error(y_true=y,y_pred=ridge.predict(X)))\n",
        "print(second_model)"
      ],
      "execution_count": 35,
      "outputs": [
        {
          "output_type": "stream",
          "text": [
            "45505202968.35788\n"
          ],
          "name": "stdout"
        }
      ]
    },
    {
      "cell_type": "markdown",
      "metadata": {
        "id": "EcEzB02XlNAD",
        "colab_type": "text"
      },
      "source": [
        "Lasso Regression"
      ]
    },
    {
      "cell_type": "code",
      "metadata": {
        "id": "m6kGu3Kjk1Vs",
        "colab_type": "code",
        "colab": {}
      },
      "source": [
        "# standardize features\n",
        "from sklearn.preprocessing import StandardScaler\n",
        "\n",
        "scaler = StandardScaler()\n",
        "x_std = scaler.fit_transform(X)"
      ],
      "execution_count": 36,
      "outputs": []
    },
    {
      "cell_type": "code",
      "metadata": {
        "id": "umI_o3LjqgYA",
        "colab_type": "code",
        "colab": {
          "base_uri": "https://localhost:8080/",
          "height": 121
        },
        "outputId": "4c5fd7d9-2723-4252-98fa-4dac49c39bc9"
      },
      "source": [
        "# We can basically build the Lasso model. \n",
        "# But for now, we will train it on the whole dataset and look at an R-squared score and on the model coefficients. \n",
        "# Note, that we are not setting the alpha, it is defined as 1.\n",
        "# \n",
        "\n",
        "# Importing linear models\n",
        "# \n",
        "from sklearn import linear_model\n",
        "from sklearn.metrics import mean_squared_error\n",
        "\n",
        "# Creating lasso object\n",
        "# \n",
        "lasso = linear_model.Lasso() \n",
        "\n",
        "# Fitting the models\n",
        "# \n",
        "lasso.fit(X, y) \n",
        "\n",
        "# Print scores, MSE, and coefficients\n",
        "# \n",
        "print(\"lasso score:\", lasso.score(X, y)) \n",
        "print(\"lasso MSE:\", mean_squared_error(y, lasso.predict(X))) \n",
        "print(\"lasso coef:\", lasso.coef_) "
      ],
      "execution_count": 37,
      "outputs": [
        {
          "output_type": "stream",
          "text": [
            "lasso score: 0.6629053509883047\n",
            "lasso MSE: 45496785554.65012\n",
            "lasso coef: [-2.93201741e+03  1.06356815e+05  2.70509792e-01  1.35317046e+04\n",
            "  6.17103710e+05  5.69163591e+04  2.65468110e+04  1.38406476e+05\n",
            " -3.21742931e+03  2.06573560e+01 -5.21719062e+02  5.77686903e+05\n",
            " -1.67298381e+05  9.12526650e+01 -1.79359210e-01]\n"
          ],
          "name": "stdout"
        }
      ]
    },
    {
      "cell_type": "code",
      "metadata": {
        "id": "E70Wc_OTrgEq",
        "colab_type": "code",
        "colab": {
          "base_uri": "https://localhost:8080/",
          "height": 243
        },
        "outputId": "76f99eda-36c9-4e8f-a794-d9390f92e5ae"
      },
      "source": [
        "# Splitting the data into training and test sets, building Lasso, \n",
        "# and choosing the regularization parameter with the help of GridSearch. \n",
        "# For that, we have to define the set of parameters for GridSearch. \n",
        "# In this case, a model with the highest R-squared score will give us the best parameters.\n",
        "# \n",
        "# Making necessary imports\n",
        "import warnings\n",
        "warnings.filterwarnings(\"ignore\")\n",
        "\n",
        "parameters = {'alpha': np.concatenate((np.arange(0.1,2,0.1), np.arange(2, 5, 0.5), np.arange(5, 25, 1)))}\n",
        "linear = linear_model.LinearRegression()\n",
        "lasso = linear_model.Lasso() \n",
        "gridlasso = GridSearchCV(lasso, parameters, scoring ='r2') \n",
        "\n",
        "# Fitting models and print the best parameters, R-squared scores, MSE, and coefficients\n",
        "gridlasso.fit(X_train, y_train) \n",
        "linear.fit(X_train, y_train) \n",
        "print(\"lasso best parameters:\", gridlasso.best_params_) \n",
        "print(\"lasso score:\", gridlasso.score(X_test, y_test))\n",
        "print(\"linear score:\", linear.score(X_test, y_test)) \n",
        "print(\"lasso MSE:\", mean_squared_error(y_test, gridlasso.predict(X_test)))\n",
        "print(\"linear MSE:\", mean_squared_error(y_test, linear.predict(X_test))) \n",
        "print(\"lasso best estimator coef:\", gridlasso.best_estimator_.coef_)\n",
        "print(\"linear coef:\", linear.coef_)"
      ],
      "execution_count": 38,
      "outputs": [
        {
          "output_type": "stream",
          "text": [
            "lasso best parameters: {'alpha': 22.0}\n",
            "lasso score: 0.6735080851977739\n",
            "linear score: 0.673388515640788\n",
            "lasso MSE: 42907628859.98499\n",
            "linear MSE: 42923342713.656395\n",
            "lasso best estimator coef: [-4.16959422e+03  1.04811467e+05  2.93075033e-01  1.13370573e+04\n",
            "  6.81806785e+05  5.71743235e+04  2.66974864e+04  1.37660569e+05\n",
            " -3.14877737e+03  2.16042183e+01 -5.05918215e+02  5.76739543e+05\n",
            " -1.70137028e+05  9.40343540e+01 -1.76311876e-01]\n",
            "linear coef: [-4.20321930e+03  1.04851406e+05  2.93919850e-01  1.14008321e+04\n",
            "  6.85221980e+05  5.70537465e+04  2.67649983e+04  1.37600365e+05\n",
            " -3.14585081e+03  2.15896945e+01 -5.08998757e+02  5.78115194e+05\n",
            " -1.72065198e+05  9.40892972e+01 -1.75347281e-01]\n"
          ],
          "name": "stdout"
        }
      ]
    },
    {
      "cell_type": "code",
      "metadata": {
        "id": "k750lN2ase84",
        "colab_type": "code",
        "colab": {
          "base_uri": "https://localhost:8080/",
          "height": 458
        },
        "outputId": "3bbb4d17-a710-47bb-95b3-de60a243424b"
      },
      "source": [
        "# Importing library for visualization\n",
        "#\n",
        "import matplotlib.pyplot as plt\n",
        "coefsLasso = [] \n",
        "\n",
        "# Building Lasso for 200 values of alpha and write the coefficients into array\n",
        "# \n",
        "alphasLasso = np.arange (0, 20, 0.1) \n",
        "for i in range(200):\n",
        "    lasso = linear_model.Lasso(alpha=alphasLasso[i])\n",
        "    lasso.fit(X_train, y_train)\n",
        "    coefsLasso.append(lasso.coef_) \n",
        "\n",
        "# Building Lasso coefficient plots\n",
        "# \n",
        "plt.figure(figsize = (16,7))\n",
        "\n",
        "plt.subplot(121)\n",
        "plt.plot(alphasLasso, coefsLasso)\n",
        "plt.title('Lasso coefficients')\n",
        "plt.xlabel('alpha')\n",
        "plt.ylabel('coefs')\n",
        "\n",
        "plt.show()\n",
        "\n",
        "# As we can see, Lasso influences less on the large coefficients, but the small ones Lasso reduces to zeroes. \n",
        "# Therefore Lasso can also be used to determine which features are important \n",
        "# to us and keeps the features that may influence the target variable"
      ],
      "execution_count": 39,
      "outputs": [
        {
          "output_type": "display_data",
          "data": {
            "image/png": "[encoded data removed]",
            "text/plain": [
              "<Figure size 1152x504 with 1 Axes>"
            ]
          },
          "metadata": {
            "tags": [],
            "needs_background": "light"
          }
        }
      ]
    },
    {
      "cell_type": "markdown",
      "metadata": {
        "id": "rPuUi_QmyDxY",
        "colab_type": "text"
      },
      "source": [
        "Elastic Net Regression"
      ]
    },
    {
      "cell_type": "code",
      "metadata": {
        "id": "3mQqNuhF3v3U",
        "colab_type": "code",
        "colab": {}
      },
      "source": [
        "# importing elastic net model\n",
        "from sklearn.linear_model import ElasticNet\n",
        "\n",
        "# creating the X\n",
        "X = revised"
      ],
      "execution_count": 40,
      "outputs": []
    },
    {
      "cell_type": "code",
      "metadata": {
        "id": "yFDWPHiKtBL7",
        "colab_type": "code",
        "colab": {
          "base_uri": "https://localhost:8080/",
          "height": 277
        },
        "outputId": "b6887e2d-7fb4-486d-e851-1a7fa14ff9af"
      },
      "source": [
        "# Below are the coefficients of this first model. We use a for loop to go through \n",
        "# the model and the zip function to combine the two columns.\n",
        "# \n",
        "coef_dict_baseline = {}\n",
        "for coef, feat in zip(regressor.coef_,X.columns):\n",
        "    coef_dict_baseline[feat] = coef\n",
        "coef_dict_baseline"
      ],
      "execution_count": 41,
      "outputs": [
        {
          "output_type": "execute_result",
          "data": {
            "text/plain": [
              "{'bathrooms': 104851.40555256778,\n",
              " 'bedrooms': -4203.219303263202,\n",
              " 'condition': 26764.998319077746,\n",
              " 'floors': 11400.832076204313,\n",
              " 'grade': 137600.36497652286,\n",
              " 'lat': 578115.1935974483,\n",
              " 'long': -172065.19793841618,\n",
              " 'sqft_living15': 94.08929719178195,\n",
              " 'sqft_lot': 0.29391985044640023,\n",
              " 'sqft_lot15': -0.17534728134342004,\n",
              " 'view': 57053.74648327634,\n",
              " 'waterfront': 685221.9797446762,\n",
              " 'yr_built': -3145.8508139137225,\n",
              " 'yr_renovated': 21.589694548746138,\n",
              " 'zipcode': -508.99875681712786}"
            ]
          },
          "metadata": {
            "tags": []
          },
          "execution_count": 41
        }
      ]
    },
    {
      "cell_type": "code",
      "metadata": {
        "id": "9jl35dCS-wQw",
        "colab_type": "code",
        "colab": {}
      },
      "source": [
        "# Elastic Net Model\n",
        "# Elastic net, just like ridge and lasso regression, requires normalize data. \n",
        "# This argument  is set inside the ElasticNet function. \n",
        "# The second thing we need to do is create our grid.\n",
        "# \n",
        "elastic=ElasticNet(normalize=True)\n",
        "search=GridSearchCV(estimator=elastic,param_grid={'alpha':np.logspace(-5,2,8),'l1_ratio':[.2,.4,.6,.8]},scoring='neg_mean_squared_error',n_jobs=1,refit=True,cv=10)"
      ],
      "execution_count": 42,
      "outputs": []
    },
    {
      "cell_type": "code",
      "metadata": {
        "id": "aPBfuHh6AM7U",
        "colab_type": "code",
        "colab": {
          "base_uri": "https://localhost:8080/",
          "height": 35
        },
        "outputId": "e115ae6a-45c5-4192-b0b3-7ba1036e1386"
      },
      "source": [
        "# We will now fit our model and display the best parameters and the best results we can get with that setup.\n",
        "# \n",
        "search.fit(X,y)\n",
        "search.best_params_\n",
        "abs(search.best_score_)\n",
        "\n",
        "# The best hyperparameters was an alpha set to 1e-05 and a l1_ratio of 0.8. \n",
        "# With these settings we got an MSE of 45955977052.75817. This is above our baseline model of MSE 42923342713.656395  for the baseline model. "
      ],
      "execution_count": 43,
      "outputs": [
        {
          "output_type": "execute_result",
          "data": {
            "text/plain": [
              "45955977052.75817"
            ]
          },
          "metadata": {
            "tags": []
          },
          "execution_count": 43
        }
      ]
    },
    {
      "cell_type": "code",
      "metadata": {
        "id": "fx5s_WtBLNcx",
        "colab_type": "code",
        "colab": {
          "base_uri": "https://localhost:8080/",
          "height": 35
        },
        "outputId": "91527310-bf18-4ff3-94e0-a93bf00fc0a9"
      },
      "source": [
        "# For clarity, we will set our hyperparameters to the recommended values and run on the data.\n",
        "# \n",
        "elastic=ElasticNet(normalize=True,alpha=1e-05,l1_ratio=0.8)\n",
        "elastic.fit(X,y)\n",
        "second_model=(mean_squared_error(y_true=y,y_pred=elastic.predict(X)))\n",
        "print(second_model)"
      ],
      "execution_count": 44,
      "outputs": [
        {
          "output_type": "stream",
          "text": [
            "45629373591.206245\n"
          ],
          "name": "stdout"
        }
      ]
    },
    {
      "cell_type": "code",
      "metadata": {
        "id": "ttWGtmXZMjmy",
        "colab_type": "code",
        "colab": {
          "base_uri": "https://localhost:8080/",
          "height": 277
        },
        "outputId": "92624416-9438-4846-eaad-65e896b74a1e"
      },
      "source": [
        "# Below are the coefficients\n",
        "# \n",
        "coef_dict_baseline = {}\n",
        "for coef, feat in zip(elastic.coef_,X.columns):\n",
        "    coef_dict_baseline[feat] = coef\n",
        "coef_dict_baseline\n"
      ],
      "execution_count": 45,
      "outputs": [
        {
          "output_type": "execute_result",
          "data": {
            "text/plain": [
              "{'bathrooms': 99780.2832950173,\n",
              " 'bedrooms': 1031.2956681227345,\n",
              " 'condition': 28891.26649654639,\n",
              " 'floors': 15623.8931030529,\n",
              " 'grade': 128044.986073626,\n",
              " 'lat': 567132.4166303084,\n",
              " 'long': -167130.5937679406,\n",
              " 'sqft_living15': 97.36441469660386,\n",
              " 'sqft_lot': 0.2601477440989186,\n",
              " 'sqft_lot15': -0.13977191121667001,\n",
              " 'view': 58552.41134214511,\n",
              " 'waterfront': 595582.1843664289,\n",
              " 'yr_built': -2834.694540363451,\n",
              " 'yr_renovated': 26.555722701274707,\n",
              " 'zipcode': -451.47134605703235}"
            ]
          },
          "metadata": {
            "tags": []
          },
          "execution_count": 45
        }
      ]
    },
    {
      "cell_type": "markdown",
      "metadata": {
        "id": "YItdx_OfT_Ly",
        "colab_type": "text"
      },
      "source": [
        "Quantile Regression"
      ]
    },
    {
      "cell_type": "code",
      "metadata": {
        "id": "kXUZWEuWT-hC",
        "colab_type": "code",
        "colab": {}
      },
      "source": [
        "features = ['bathrooms', 'bedrooms', 'condition', 'floors', 'grade' , 'lat', 'long', 'sqft_living15', 'sqft_lot', 'sqft_lot15', 'view', 'waterfront', 'yr_built', 'yr_renovated', 'zipcode']\n",
        "target = house['price'] "
      ],
      "execution_count": 46,
      "outputs": []
    },
    {
      "cell_type": "code",
      "metadata": {
        "id": "dZJm2xq7Vu_s",
        "colab_type": "code",
        "colab": {}
      },
      "source": [
        "from sklearn import preprocessing\n",
        "independent = house[features]\n",
        "dependent = house['price']\n",
        "# Standardize the variables\n",
        "# It is not necessary to standardize the target. I do it just for convenience.\n",
        "X_scaled = pd.DataFrame(preprocessing.scale(independent))\n",
        "Y_scaled = preprocessing.scale(dependent)\n",
        "X_scaled.columns = features"
      ],
      "execution_count": 47,
      "outputs": []
    },
    {
      "cell_type": "code",
      "metadata": {
        "id": "_MHPuGARcW5K",
        "colab_type": "code",
        "colab": {}
      },
      "source": [
        "X = revised"
      ],
      "execution_count": 48,
      "outputs": []
    },
    {
      "cell_type": "code",
      "metadata": {
        "id": "Z_2AS5wjX8AA",
        "colab_type": "code",
        "colab": {
          "base_uri": "https://localhost:8080/",
          "height": 299
        },
        "outputId": "ef4df5f1-1aad-4cb3-87ca-7a93c6dfc91e"
      },
      "source": [
        "# model evaluation for testing set\n",
        "\n",
        "\n",
        "r2 = metrics.r2_score(y_test, price_predict).round(2)\n",
        "print('R Squared score is {}'.format(r2) )\n",
        "\n",
        "# Plot the coefficients in descending order\n",
        "w = pd.DataFrame()\n",
        "w['Var'] = X.columns\n",
        "w = w.set_index('Var') # Set the variable names as the index\n",
        "w['beta'] = regressor.coef_\n",
        "w['beta_abs'] = np.abs(w['beta']) # Get the absolute value for ranking\n",
        "w = w.sort_values(by='beta_abs')\n",
        "w['beta'].plot.barh()\n",
        "plt.title('OLS')\n",
        "plt.show()"
      ],
      "execution_count": 51,
      "outputs": [
        {
          "output_type": "stream",
          "text": [
            "R Squared score is 0.67\n"
          ],
          "name": "stdout"
        },
        {
          "output_type": "display_data",
          "data": {
            "image/png": "[encoded data removed]",
            "text/plain": [
              "<Figure size 432x288 with 1 Axes>"
            ]
          },
          "metadata": {
            "tags": [],
            "needs_background": "light"
          }
        }
      ]
    },
    {
      "cell_type": "code",
      "metadata": {
        "id": "IxiEuKPQd5fw",
        "colab_type": "code",
        "colab": {
          "base_uri": "https://localhost:8080/",
          "height": 35
        },
        "outputId": "cca71751-55ae-4803-c93e-1fd1fe90e507"
      },
      "source": [
        "print(\"The mean squared error for the linear model:\",metrics.mean_squared_error(y_test, price_predict))"
      ],
      "execution_count": 52,
      "outputs": [
        {
          "output_type": "stream",
          "text": [
            "The mean squared error for the linear model: 42923342713.656395\n"
          ],
          "name": "stdout"
        }
      ]
    },
    {
      "cell_type": "code",
      "metadata": {
        "id": "bicxAVv1eAT5",
        "colab_type": "code",
        "colab": {}
      },
      "source": [
        "print(\"The mean squared error for the quantile model:\",metrics.mean_squared_error(Y_test, Y_test_pred2))"
      ],
      "execution_count": null,
      "outputs": []
    },
    {
      "cell_type": "code",
      "metadata": {
        "id": "82hw_CMSef5D",
        "colab_type": "code",
        "colab": {
          "base_uri": "https://localhost:8080/",
          "height": 35
        },
        "outputId": "35520659-ee10-406a-824e-17e077d4e3ff"
      },
      "source": [
        "import statsmodels.regression.quantile_regression as Q_reg\n",
        "import matplotlib.pyplot as plt\n",
        "\n",
        "quantiles = [0.25, 0.5, 0.75]\n",
        "\n",
        "# Get the model, and the cofficients in (a) - (b)\n",
        "def Qreg(q):\n",
        "   # (a) Modeling \n",
        "   mod = Q_reg.QuantReg(y_train, X_train).fit(q=q)\n",
        "    \n",
        "   # (b) Get the coefficients and the lower and upper bounds\n",
        "   coefs = pd.DataFrame()\n",
        "   coefs['param'] = mod.params\n",
        "   \n",
        "   coefs['q'] = q\n",
        "   coefs.columns = ['beta_lower','beta_upper']\n",
        "    \n",
        "   return coefs\n",
        "\n",
        "Qreg_coefs = pd.DataFrame()\n",
        "for q in quantiles:\n",
        "    coefs = Qreg(q)\n",
        "    Qreg_coefs = pd.concat([Qreg_coefs,coefs])\n",
        "\n",
        "# Get the R-squared for Q=0.5\n",
        "q = 0.5\n",
        "y_test_pred1 = Q_reg.QuantReg(y_train, X_train).fit(q=0.25).predict(X_test)\n",
        "y_test_pred2 = Q_reg.QuantReg(y_train, X_train).fit(q=0.5).predict(X_test)\n",
        "y_test_pred3 = Q_reg.QuantReg(y_train, X_train).fit(q=0.75).predict(X_test)\n",
        "r2 = metrics.r2_score(y_test,price_predict)\n",
        "print('R2 score for the 50th percentile is {}'.format(r2) ) # 0.490744"
      ],
      "execution_count": 58,
      "outputs": [
        {
          "output_type": "stream",
          "text": [
            "R2 score for the 50th percentile is 0.673388515640788\n"
          ],
          "name": "stdout"
        }
      ]
    },
    {
      "cell_type": "code",
      "metadata": {
        "id": "rGpbzKsYf76g",
        "colab_type": "code",
        "colab": {
          "base_uri": "https://localhost:8080/",
          "height": 294
        },
        "outputId": "b8e8aab0-97a4-4f59-dc19-7c2143dc1121"
      },
      "source": [
        "comparison = pd.DataFrame({'Actual': y_test,'Linear': price_predict,'50th Quantile': price_predict,'25th Quantile':price_predict,'75th Quantile':price_predict})\n",
        "comparison.describe()"
      ],
      "execution_count": 60,
      "outputs": [
        {
          "output_type": "execute_result",
          "data": {
            "text/html": [
              "<div>\n",
              "<style scoped>\n",
              "    .dataframe tbody tr th:only-of-type {\n",
              "        vertical-align: middle;\n",
              "    }\n",
              "\n",
              "    .dataframe tbody tr th {\n",
              "        vertical-align: top;\n",
              "    }\n",
              "\n",
              "    .dataframe thead th {\n",
              "        text-align: right;\n",
              "    }\n",
              "</style>\n",
              "<table border=\"1\" class=\"dataframe\">\n",
              "  <thead>\n",
              "    <tr style=\"text-align: right;\">\n",
              "      <th></th>\n",
              "      <th>Actual</th>\n",
              "      <th>Linear</th>\n",
              "      <th>50th Quantile</th>\n",
              "      <th>25th Quantile</th>\n",
              "      <th>75th Quantile</th>\n",
              "    </tr>\n",
              "  </thead>\n",
              "  <tbody>\n",
              "    <tr>\n",
              "      <th>count</th>\n",
              "      <td>4.322000e+03</td>\n",
              "      <td>4.322000e+03</td>\n",
              "      <td>4.322000e+03</td>\n",
              "      <td>4.322000e+03</td>\n",
              "      <td>4.322000e+03</td>\n",
              "    </tr>\n",
              "    <tr>\n",
              "      <th>mean</th>\n",
              "      <td>5.434344e+05</td>\n",
              "      <td>5.419604e+05</td>\n",
              "      <td>5.419604e+05</td>\n",
              "      <td>5.419604e+05</td>\n",
              "      <td>5.419604e+05</td>\n",
              "    </tr>\n",
              "    <tr>\n",
              "      <th>std</th>\n",
              "      <td>3.625612e+05</td>\n",
              "      <td>3.047868e+05</td>\n",
              "      <td>3.047868e+05</td>\n",
              "      <td>3.047868e+05</td>\n",
              "      <td>3.047868e+05</td>\n",
              "    </tr>\n",
              "    <tr>\n",
              "      <th>min</th>\n",
              "      <td>8.100000e+04</td>\n",
              "      <td>-7.290389e+05</td>\n",
              "      <td>-7.290389e+05</td>\n",
              "      <td>-7.290389e+05</td>\n",
              "      <td>-7.290389e+05</td>\n",
              "    </tr>\n",
              "    <tr>\n",
              "      <th>25%</th>\n",
              "      <td>3.230000e+05</td>\n",
              "      <td>3.419879e+05</td>\n",
              "      <td>3.419879e+05</td>\n",
              "      <td>3.419879e+05</td>\n",
              "      <td>3.419879e+05</td>\n",
              "    </tr>\n",
              "    <tr>\n",
              "      <th>50%</th>\n",
              "      <td>4.500000e+05</td>\n",
              "      <td>4.943316e+05</td>\n",
              "      <td>4.943316e+05</td>\n",
              "      <td>4.943316e+05</td>\n",
              "      <td>4.943316e+05</td>\n",
              "    </tr>\n",
              "    <tr>\n",
              "      <th>75%</th>\n",
              "      <td>6.500000e+05</td>\n",
              "      <td>6.799736e+05</td>\n",
              "      <td>6.799736e+05</td>\n",
              "      <td>6.799736e+05</td>\n",
              "      <td>6.799736e+05</td>\n",
              "    </tr>\n",
              "    <tr>\n",
              "      <th>max</th>\n",
              "      <td>4.000000e+06</td>\n",
              "      <td>2.412770e+06</td>\n",
              "      <td>2.412770e+06</td>\n",
              "      <td>2.412770e+06</td>\n",
              "      <td>2.412770e+06</td>\n",
              "    </tr>\n",
              "  </tbody>\n",
              "</table>\n",
              "</div>"
            ],
            "text/plain": [
              "             Actual        Linear  50th Quantile  25th Quantile  75th Quantile\n",
              "count  4.322000e+03  4.322000e+03   4.322000e+03   4.322000e+03   4.322000e+03\n",
              "mean   5.434344e+05  5.419604e+05   5.419604e+05   5.419604e+05   5.419604e+05\n",
              "std    3.625612e+05  3.047868e+05   3.047868e+05   3.047868e+05   3.047868e+05\n",
              "min    8.100000e+04 -7.290389e+05  -7.290389e+05  -7.290389e+05  -7.290389e+05\n",
              "25%    3.230000e+05  3.419879e+05   3.419879e+05   3.419879e+05   3.419879e+05\n",
              "50%    4.500000e+05  4.943316e+05   4.943316e+05   4.943316e+05   4.943316e+05\n",
              "75%    6.500000e+05  6.799736e+05   6.799736e+05   6.799736e+05   6.799736e+05\n",
              "max    4.000000e+06  2.412770e+06   2.412770e+06   2.412770e+06   2.412770e+06"
            ]
          },
          "metadata": {
            "tags": []
          },
          "execution_count": 60
        }
      ]
    },
    {
      "cell_type": "code",
      "metadata": {
        "id": "XKPhJFU7gi-d",
        "colab_type": "code",
        "colab": {
          "base_uri": "https://localhost:8080/",
          "height": 509
        },
        "outputId": "3081b27c-b838-4ec2-9af4-7367f5622ca1"
      },
      "source": [
        "coefs"
      ],
      "execution_count": 61,
      "outputs": [
        {
          "output_type": "execute_result",
          "data": {
            "text/html": [
              "<div>\n",
              "<style scoped>\n",
              "    .dataframe tbody tr th:only-of-type {\n",
              "        vertical-align: middle;\n",
              "    }\n",
              "\n",
              "    .dataframe tbody tr th {\n",
              "        vertical-align: top;\n",
              "    }\n",
              "\n",
              "    .dataframe thead th {\n",
              "        text-align: right;\n",
              "    }\n",
              "</style>\n",
              "<table border=\"1\" class=\"dataframe\">\n",
              "  <thead>\n",
              "    <tr style=\"text-align: right;\">\n",
              "      <th></th>\n",
              "      <th>beta_lower</th>\n",
              "      <th>beta_upper</th>\n",
              "    </tr>\n",
              "  </thead>\n",
              "  <tbody>\n",
              "    <tr>\n",
              "      <th>0</th>\n",
              "      <td>1731.363915</td>\n",
              "      <td>0.75</td>\n",
              "    </tr>\n",
              "    <tr>\n",
              "      <th>1</th>\n",
              "      <td>73568.926173</td>\n",
              "      <td>0.75</td>\n",
              "    </tr>\n",
              "    <tr>\n",
              "      <th>2</th>\n",
              "      <td>0.379837</td>\n",
              "      <td>0.75</td>\n",
              "    </tr>\n",
              "    <tr>\n",
              "      <th>3</th>\n",
              "      <td>30483.380388</td>\n",
              "      <td>0.75</td>\n",
              "    </tr>\n",
              "    <tr>\n",
              "      <th>4</th>\n",
              "      <td>151952.872873</td>\n",
              "      <td>0.75</td>\n",
              "    </tr>\n",
              "    <tr>\n",
              "      <th>5</th>\n",
              "      <td>88121.931350</td>\n",
              "      <td>0.75</td>\n",
              "    </tr>\n",
              "    <tr>\n",
              "      <th>6</th>\n",
              "      <td>26289.504320</td>\n",
              "      <td>0.75</td>\n",
              "    </tr>\n",
              "    <tr>\n",
              "      <th>7</th>\n",
              "      <td>112641.431562</td>\n",
              "      <td>0.75</td>\n",
              "    </tr>\n",
              "    <tr>\n",
              "      <th>8</th>\n",
              "      <td>-2762.639389</td>\n",
              "      <td>0.75</td>\n",
              "    </tr>\n",
              "    <tr>\n",
              "      <th>9</th>\n",
              "      <td>30.792141</td>\n",
              "      <td>0.75</td>\n",
              "    </tr>\n",
              "    <tr>\n",
              "      <th>10</th>\n",
              "      <td>-396.221040</td>\n",
              "      <td>0.75</td>\n",
              "    </tr>\n",
              "    <tr>\n",
              "      <th>11</th>\n",
              "      <td>628711.073025</td>\n",
              "      <td>0.75</td>\n",
              "    </tr>\n",
              "    <tr>\n",
              "      <th>12</th>\n",
              "      <td>-111469.836151</td>\n",
              "      <td>0.75</td>\n",
              "    </tr>\n",
              "    <tr>\n",
              "      <th>13</th>\n",
              "      <td>99.790014</td>\n",
              "      <td>0.75</td>\n",
              "    </tr>\n",
              "    <tr>\n",
              "      <th>14</th>\n",
              "      <td>-0.007264</td>\n",
              "      <td>0.75</td>\n",
              "    </tr>\n",
              "  </tbody>\n",
              "</table>\n",
              "</div>"
            ],
            "text/plain": [
              "       beta_lower  beta_upper\n",
              "0     1731.363915        0.75\n",
              "1    73568.926173        0.75\n",
              "2        0.379837        0.75\n",
              "3    30483.380388        0.75\n",
              "4   151952.872873        0.75\n",
              "5    88121.931350        0.75\n",
              "6    26289.504320        0.75\n",
              "7   112641.431562        0.75\n",
              "8    -2762.639389        0.75\n",
              "9       30.792141        0.75\n",
              "10    -396.221040        0.75\n",
              "11  628711.073025        0.75\n",
              "12 -111469.836151        0.75\n",
              "13      99.790014        0.75\n",
              "14      -0.007264        0.75"
            ]
          },
          "metadata": {
            "tags": []
          },
          "execution_count": 61
        }
      ]
    },
    {
      "cell_type": "code",
      "metadata": {
        "id": "wFJPX1jzgsS5",
        "colab_type": "code",
        "colab": {
          "base_uri": "https://localhost:8080/",
          "height": 1000
        },
        "outputId": "6c5730b2-9b97-44dd-f7d6-53b97ddcca90"
      },
      "source": [
        "Qreg_coefs"
      ],
      "execution_count": 62,
      "outputs": [
        {
          "output_type": "execute_result",
          "data": {
            "text/html": [
              "<div>\n",
              "<style scoped>\n",
              "    .dataframe tbody tr th:only-of-type {\n",
              "        vertical-align: middle;\n",
              "    }\n",
              "\n",
              "    .dataframe tbody tr th {\n",
              "        vertical-align: top;\n",
              "    }\n",
              "\n",
              "    .dataframe thead th {\n",
              "        text-align: right;\n",
              "    }\n",
              "</style>\n",
              "<table border=\"1\" class=\"dataframe\">\n",
              "  <thead>\n",
              "    <tr style=\"text-align: right;\">\n",
              "      <th></th>\n",
              "      <th>beta_lower</th>\n",
              "      <th>beta_upper</th>\n",
              "    </tr>\n",
              "  </thead>\n",
              "  <tbody>\n",
              "    <tr>\n",
              "      <th>0</th>\n",
              "      <td>3136.152208</td>\n",
              "      <td>0.25</td>\n",
              "    </tr>\n",
              "    <tr>\n",
              "      <th>1</th>\n",
              "      <td>50561.245412</td>\n",
              "      <td>0.25</td>\n",
              "    </tr>\n",
              "    <tr>\n",
              "      <th>2</th>\n",
              "      <td>0.260573</td>\n",
              "      <td>0.25</td>\n",
              "    </tr>\n",
              "    <tr>\n",
              "      <th>3</th>\n",
              "      <td>26199.051807</td>\n",
              "      <td>0.25</td>\n",
              "    </tr>\n",
              "    <tr>\n",
              "      <th>4</th>\n",
              "      <td>159667.603726</td>\n",
              "      <td>0.25</td>\n",
              "    </tr>\n",
              "    <tr>\n",
              "      <th>5</th>\n",
              "      <td>40189.715555</td>\n",
              "      <td>0.25</td>\n",
              "    </tr>\n",
              "    <tr>\n",
              "      <th>6</th>\n",
              "      <td>25323.930796</td>\n",
              "      <td>0.25</td>\n",
              "    </tr>\n",
              "    <tr>\n",
              "      <th>7</th>\n",
              "      <td>83270.923017</td>\n",
              "      <td>0.25</td>\n",
              "    </tr>\n",
              "    <tr>\n",
              "      <th>8</th>\n",
              "      <td>-1845.804433</td>\n",
              "      <td>0.25</td>\n",
              "    </tr>\n",
              "    <tr>\n",
              "      <th>9</th>\n",
              "      <td>13.903283</td>\n",
              "      <td>0.25</td>\n",
              "    </tr>\n",
              "    <tr>\n",
              "      <th>10</th>\n",
              "      <td>-127.011763</td>\n",
              "      <td>0.25</td>\n",
              "    </tr>\n",
              "    <tr>\n",
              "      <th>11</th>\n",
              "      <td>448577.193975</td>\n",
              "      <td>0.25</td>\n",
              "    </tr>\n",
              "    <tr>\n",
              "      <th>12</th>\n",
              "      <td>47834.269171</td>\n",
              "      <td>0.25</td>\n",
              "    </tr>\n",
              "    <tr>\n",
              "      <th>13</th>\n",
              "      <td>69.831976</td>\n",
              "      <td>0.25</td>\n",
              "    </tr>\n",
              "    <tr>\n",
              "      <th>14</th>\n",
              "      <td>-0.124846</td>\n",
              "      <td>0.25</td>\n",
              "    </tr>\n",
              "    <tr>\n",
              "      <th>0</th>\n",
              "      <td>-536.045968</td>\n",
              "      <td>0.50</td>\n",
              "    </tr>\n",
              "    <tr>\n",
              "      <th>1</th>\n",
              "      <td>61602.075615</td>\n",
              "      <td>0.50</td>\n",
              "    </tr>\n",
              "    <tr>\n",
              "      <th>2</th>\n",
              "      <td>0.296760</td>\n",
              "      <td>0.50</td>\n",
              "    </tr>\n",
              "    <tr>\n",
              "      <th>3</th>\n",
              "      <td>35847.978152</td>\n",
              "      <td>0.50</td>\n",
              "    </tr>\n",
              "    <tr>\n",
              "      <th>4</th>\n",
              "      <td>506809.733304</td>\n",
              "      <td>0.50</td>\n",
              "    </tr>\n",
              "    <tr>\n",
              "      <th>5</th>\n",
              "      <td>49932.967969</td>\n",
              "      <td>0.50</td>\n",
              "    </tr>\n",
              "    <tr>\n",
              "      <th>6</th>\n",
              "      <td>24161.939267</td>\n",
              "      <td>0.50</td>\n",
              "    </tr>\n",
              "    <tr>\n",
              "      <th>7</th>\n",
              "      <td>97312.095401</td>\n",
              "      <td>0.50</td>\n",
              "    </tr>\n",
              "    <tr>\n",
              "      <th>8</th>\n",
              "      <td>-2417.858532</td>\n",
              "      <td>0.50</td>\n",
              "    </tr>\n",
              "    <tr>\n",
              "      <th>9</th>\n",
              "      <td>16.110181</td>\n",
              "      <td>0.50</td>\n",
              "    </tr>\n",
              "    <tr>\n",
              "      <th>10</th>\n",
              "      <td>-232.533465</td>\n",
              "      <td>0.50</td>\n",
              "    </tr>\n",
              "    <tr>\n",
              "      <th>11</th>\n",
              "      <td>527442.300794</td>\n",
              "      <td>0.50</td>\n",
              "    </tr>\n",
              "    <tr>\n",
              "      <th>12</th>\n",
              "      <td>-14724.970196</td>\n",
              "      <td>0.50</td>\n",
              "    </tr>\n",
              "    <tr>\n",
              "      <th>13</th>\n",
              "      <td>83.401321</td>\n",
              "      <td>0.50</td>\n",
              "    </tr>\n",
              "    <tr>\n",
              "      <th>14</th>\n",
              "      <td>-0.072046</td>\n",
              "      <td>0.50</td>\n",
              "    </tr>\n",
              "    <tr>\n",
              "      <th>0</th>\n",
              "      <td>1731.363915</td>\n",
              "      <td>0.75</td>\n",
              "    </tr>\n",
              "    <tr>\n",
              "      <th>1</th>\n",
              "      <td>73568.926173</td>\n",
              "      <td>0.75</td>\n",
              "    </tr>\n",
              "    <tr>\n",
              "      <th>2</th>\n",
              "      <td>0.379837</td>\n",
              "      <td>0.75</td>\n",
              "    </tr>\n",
              "    <tr>\n",
              "      <th>3</th>\n",
              "      <td>30483.380388</td>\n",
              "      <td>0.75</td>\n",
              "    </tr>\n",
              "    <tr>\n",
              "      <th>4</th>\n",
              "      <td>151952.872873</td>\n",
              "      <td>0.75</td>\n",
              "    </tr>\n",
              "    <tr>\n",
              "      <th>5</th>\n",
              "      <td>88121.931350</td>\n",
              "      <td>0.75</td>\n",
              "    </tr>\n",
              "    <tr>\n",
              "      <th>6</th>\n",
              "      <td>26289.504320</td>\n",
              "      <td>0.75</td>\n",
              "    </tr>\n",
              "    <tr>\n",
              "      <th>7</th>\n",
              "      <td>112641.431562</td>\n",
              "      <td>0.75</td>\n",
              "    </tr>\n",
              "    <tr>\n",
              "      <th>8</th>\n",
              "      <td>-2762.639389</td>\n",
              "      <td>0.75</td>\n",
              "    </tr>\n",
              "    <tr>\n",
              "      <th>9</th>\n",
              "      <td>30.792141</td>\n",
              "      <td>0.75</td>\n",
              "    </tr>\n",
              "    <tr>\n",
              "      <th>10</th>\n",
              "      <td>-396.221040</td>\n",
              "      <td>0.75</td>\n",
              "    </tr>\n",
              "    <tr>\n",
              "      <th>11</th>\n",
              "      <td>628711.073025</td>\n",
              "      <td>0.75</td>\n",
              "    </tr>\n",
              "    <tr>\n",
              "      <th>12</th>\n",
              "      <td>-111469.836151</td>\n",
              "      <td>0.75</td>\n",
              "    </tr>\n",
              "    <tr>\n",
              "      <th>13</th>\n",
              "      <td>99.790014</td>\n",
              "      <td>0.75</td>\n",
              "    </tr>\n",
              "    <tr>\n",
              "      <th>14</th>\n",
              "      <td>-0.007264</td>\n",
              "      <td>0.75</td>\n",
              "    </tr>\n",
              "  </tbody>\n",
              "</table>\n",
              "</div>"
            ],
            "text/plain": [
              "       beta_lower  beta_upper\n",
              "0     3136.152208        0.25\n",
              "1    50561.245412        0.25\n",
              "2        0.260573        0.25\n",
              "3    26199.051807        0.25\n",
              "4   159667.603726        0.25\n",
              "5    40189.715555        0.25\n",
              "6    25323.930796        0.25\n",
              "7    83270.923017        0.25\n",
              "8    -1845.804433        0.25\n",
              "9       13.903283        0.25\n",
              "10    -127.011763        0.25\n",
              "11  448577.193975        0.25\n",
              "12   47834.269171        0.25\n",
              "13      69.831976        0.25\n",
              "14      -0.124846        0.25\n",
              "0     -536.045968        0.50\n",
              "1    61602.075615        0.50\n",
              "2        0.296760        0.50\n",
              "3    35847.978152        0.50\n",
              "4   506809.733304        0.50\n",
              "5    49932.967969        0.50\n",
              "6    24161.939267        0.50\n",
              "7    97312.095401        0.50\n",
              "8    -2417.858532        0.50\n",
              "9       16.110181        0.50\n",
              "10    -232.533465        0.50\n",
              "11  527442.300794        0.50\n",
              "12  -14724.970196        0.50\n",
              "13      83.401321        0.50\n",
              "14      -0.072046        0.50\n",
              "0     1731.363915        0.75\n",
              "1    73568.926173        0.75\n",
              "2        0.379837        0.75\n",
              "3    30483.380388        0.75\n",
              "4   151952.872873        0.75\n",
              "5    88121.931350        0.75\n",
              "6    26289.504320        0.75\n",
              "7   112641.431562        0.75\n",
              "8    -2762.639389        0.75\n",
              "9       30.792141        0.75\n",
              "10    -396.221040        0.75\n",
              "11  628711.073025        0.75\n",
              "12 -111469.836151        0.75\n",
              "13      99.790014        0.75\n",
              "14      -0.007264        0.75"
            ]
          },
          "metadata": {
            "tags": []
          },
          "execution_count": 62
        }
      ]
    },
    {
      "cell_type": "markdown",
      "metadata": {
        "id": "lQ2G4ZPDVOXE",
        "colab_type": "text"
      },
      "source": [
        "## 8. Challenging the solution"
      ]
    },
    {
      "cell_type": "markdown",
      "metadata": {
        "id": "jWVGKGuiYMWg",
        "colab_type": "text"
      },
      "source": [
        "> The easy solution is nice because it is, well, easy, but you should never allow those results to hold the day. You should always be thinking of ways to challenge the results, especially if those results comport with your prior expectation.\n",
        "\n",
        "\n",
        "\n",
        "\n"
      ]
    },
    {
      "cell_type": "code",
      "metadata": {
        "id": "j3x3SXZ4XT_L",
        "colab_type": "code",
        "colab": {}
      },
      "source": [
        "# Reviewing the Solution \n",
        "#"
      ],
      "execution_count": null,
      "outputs": []
    },
    {
      "cell_type": "markdown",
      "metadata": {
        "id": "xrmHVMVsVS--",
        "colab_type": "text"
      },
      "source": [
        "## 9. Follow up questions"
      ]
    },
    {
      "cell_type": "markdown",
      "metadata": {
        "id": "pth2qSWhuBIy",
        "colab_type": "text"
      },
      "source": [
        "> At this point, we can refine our question or collect new data, all in an iterative process to get at the truth.\n",
        "\n"
      ]
    },
    {
      "cell_type": "markdown",
      "metadata": {
        "id": "HPQviDmNtta8",
        "colab_type": "text"
      },
      "source": [
        "### a). Did we have the right data?"
      ]
    },
    {
      "cell_type": "markdown",
      "metadata": {
        "id": "qjFHK1CKty7o",
        "colab_type": "text"
      },
      "source": [
        "### b). Do we need other data to answer our question?"
      ]
    },
    {
      "cell_type": "markdown",
      "metadata": {
        "id": "HSsicSdvt4Zs",
        "colab_type": "text"
      },
      "source": [
        "### c). Did we have the right question?"
      ]
    }
  ]
}